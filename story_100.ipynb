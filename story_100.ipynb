{
 "cells": [
  {
   "cell_type": "code",
   "execution_count": 1,
   "metadata": {},
   "outputs": [],
   "source": [
    "import re\n",
    "import csv\n",
    "import time\n",
    "import pandas as pd\n",
    "import matplotlib.pyplot as plt\n",
    "import MeCab\n",
    "import random\n",
    "import codecs\n",
    "import numpy as np\n",
    "from sklearn.feature_extraction.text import CountVectorizer\n",
    "from sklearn.feature_extraction.text import TfidfTransformer"
   ]
  },
  {
   "cell_type": "markdown",
   "metadata": {},
   "source": []
  },
  {
   "cell_type": "code",
   "execution_count": 2,
   "metadata": {},
   "outputs": [],
   "source": [
    "import os\n",
    "\n",
    "def story_name(file_name):\n",
    "    path = \"./\"+file_name\n",
    "\n",
    "    files = os.listdir(path)\n",
    "    file_name_test = []\n",
    "\n",
    "    for p in files:\n",
    "        name = os.path.splitext(os.path.basename(p))[0]\n",
    "        file_name_test.append(name)\n",
    "\n",
    "    return file_name_test\n",
    "\n"
   ]
  },
  {
   "cell_type": "code",
   "execution_count": 3,
   "metadata": {},
   "outputs": [],
   "source": [
    "import csv\n",
    "\n",
    "def csv_read(csvfile_name,list_len):\n",
    "    test_story ={}\n",
    "\n",
    "    with open(csvfile_name) as f:\n",
    "        reader = csv.reader(f)\n",
    "        for row in reader:\n",
    "            if row[list_len] == '':\n",
    "                test_story[row[list_len-1]] = None\n",
    "            else:\n",
    "                test_story[row[list_len -1]] = row[list_len]\n",
    "    return test_story\n",
    "\n",
    "#csv_read(\"test12.csv\",2)"
   ]
  },
  {
   "cell_type": "code",
   "execution_count": 4,
   "metadata": {},
   "outputs": [],
   "source": [
    "def float_values(trips):\n",
    "\n",
    "    for trip in trips:\n",
    "        for key, value in trip.items():\n",
    "            trip[key] = float(value)\n",
    "\n",
    "    return trips"
   ]
  },
  {
   "cell_type": "code",
   "execution_count": 5,
   "metadata": {},
   "outputs": [
    {
     "name": "stdout",
     "output_type": "stream",
     "text": [
      "{'ももたろう': '4', 'ぶんぶくちゃがま': '4', 'かぜのかみとこども': '4', 'わらしべちょうじゃ': '4', 'びんぼう神とふくの神': '1', 'テングのすもう': '3', 'かぐや姫': '4', 'ききみみずきん': '3.5', 'さんねんねたろう': '4', 'たからゲタ': '4', 'タニシちょうじゃ': '3.5', 'いなばのしろウサギ': '4', 'はなさかじいさん': '4', 'なぞなぞおばけ': '7', 'まんじゅうこわい': '4.5', 'しちふくじん': '4', 'かしこいむすめ': '5', 'ねずみのすもう': '4', 'てんぷくちふく': '4', 'こぶとりじいさん': '3.5', 'あかたろう': '3', 'こそだてゆうれい': '3.5', 'ゆきおんな': '4', 'あまのはごろも': '4', 'いっすんぼうし': '4', 'しあわせのエンドウマメ': '5', 'おにはうち_ふくはそと': '4.5', 'お日さまとお月さま': '2.5', 'うしわかまる': '7', 'ねずみのよめいり': '4', 'かちかちやま': '4', 'うらしまたろう': '4', 'うりこひめ': '4', 'かさじぞう': '4', 'したきりすずめ': '4', 'せつぶんのオニ': '3', 'てんぐのかくれみの': '4', 'ちからたろう': '4', 'かさのえ': '3', 'いっきゅうさん': '4', 'きんたろう': '4', 'さるかにがっせん': '4', 'たつのこたろう': '8', 'つるのおんがえし': '4', 'おむすびころりん': '4', 'フクロウのそめものや': '2', 'ネズミきょう': '2', 'ふるやのもり': '4', 'サルじぞう': '4', 'しょうねんと子ダヌキ': '4', '三びきの子ブタ': '4', 'ジャックとまめの木': '3.5', 'しあわせの王子': '7', 'アラジンとまほうのランプ': '4', '三びきのクマ': '4', 'ハーメルンのふえふき男': '8.5', 'きたかぜのくれたテーブルかけ': '5.5', 'わがままなきょじん': '4', 'きんの糸と虹': '9', 'オオカミしょうねん': '5.5', 'アリとキリギリス': '3', 'ウサギとカメ': '4', 'きたかぜとたいよう': '5.5', 'すっぱいぶどう': '8', 'にくをくわえたイヌ': '11', 'きんのオノぎんのオノ': '4', 'おうさまの耳はロバの耳': '7', 'ネズミのおんがえし': '7.5', 'ひきょうなこうもり': '8', 'マッチうりの少女': '8.5', 'はだかのおうさま': '4', 'にんぎょ姫': '4', 'みにくいアヒルの子': '4', 'おやゆび姫': '3.5', 'あかいくつ': '4', 'ゆきのじょうおう': '4', 'はくちょうのおうじ': '4', 'エンドウマメのうえにねたお姫さま': '4', 'ゆきだるま': '3', 'モミの木': '6.5', 'シンデレラ': '4', 'あかずきんちゃん': '4', 'オオカミと七ひきの子ヤギ': '4', 'ブレーメンのおんがくたい': '6.5', 'ヘンゼルとグレーテル': '3.5', 'しらゆき姫': '4', 'ながぐつをはいたネコ': '6.5', 'ねむり姫': '4', 'くつやのこびと': '4', 'カエルのおうさま': '4', 'しっぽの釣り': '3', 'ゆうれいのタマゴ': '5.5'}\n",
      "92\n"
     ]
    }
   ],
   "source": [
    "story_name_list = story_name(\"対象年齢あり童話\")\n",
    "story_name_list.sort()\n",
    "target_age = csv_read(\"対象年齢.csv\",1)\n",
    "target_age.pop(\"story_name\")\n",
    "print(target_age)\n",
    "print(len(target_age))"
   ]
  },
  {
   "cell_type": "code",
   "execution_count": 6,
   "metadata": {},
   "outputs": [
    {
     "name": "stdout",
     "output_type": "stream",
     "text": [
      "{'ももたろう': 4.0, 'ぶんぶくちゃがま': 4.0, 'かぜのかみとこども': 4.0, 'わらしべちょうじゃ': 4.0, 'びんぼう神とふくの神': 1.0, 'テングのすもう': 3.0, 'かぐや姫': 4.0, 'ききみみずきん': 3.5, 'さんねんねたろう': 4.0, 'たからゲタ': 4.0, 'タニシちょうじゃ': 3.5, 'いなばのしろウサギ': 4.0, 'はなさかじいさん': 4.0, 'なぞなぞおばけ': 7.0, 'まんじゅうこわい': 4.5, 'しちふくじん': 4.0, 'かしこいむすめ': 5.0, 'ねずみのすもう': 4.0, 'てんぷくちふく': 4.0, 'こぶとりじいさん': 3.5, 'あかたろう': 3.0, 'こそだてゆうれい': 3.5, 'ゆきおんな': 4.0, 'あまのはごろも': 4.0, 'いっすんぼうし': 4.0, 'しあわせのエンドウマメ': 5.0, 'おにはうち_ふくはそと': 4.5, 'お日さまとお月さま': 2.5, 'うしわかまる': 7.0, 'ねずみのよめいり': 4.0, 'かちかちやま': 4.0, 'うらしまたろう': 4.0, 'うりこひめ': 4.0, 'かさじぞう': 4.0, 'したきりすずめ': 4.0, 'せつぶんのオニ': 3.0, 'てんぐのかくれみの': 4.0, 'ちからたろう': 4.0, 'かさのえ': 3.0, 'いっきゅうさん': 4.0, 'きんたろう': 4.0, 'さるかにがっせん': 4.0, 'たつのこたろう': 8.0, 'つるのおんがえし': 4.0, 'おむすびころりん': 4.0, 'フクロウのそめものや': 2.0, 'ネズミきょう': 2.0, 'ふるやのもり': 4.0, 'サルじぞう': 4.0, 'しょうねんと子ダヌキ': 4.0, '三びきの子ブタ': 4.0, 'ジャックとまめの木': 3.5, 'しあわせの王子': 7.0, 'アラジンとまほうのランプ': 4.0, '三びきのクマ': 4.0, 'ハーメルンのふえふき男': 8.5, 'きたかぜのくれたテーブルかけ': 5.5, 'わがままなきょじん': 4.0, 'きんの糸と虹': 9.0, 'オオカミしょうねん': 5.5, 'アリとキリギリス': 3.0, 'ウサギとカメ': 4.0, 'きたかぜとたいよう': 5.5, 'すっぱいぶどう': 8.0, 'にくをくわえたイヌ': 11.0, 'きんのオノぎんのオノ': 4.0, 'おうさまの耳はロバの耳': 7.0, 'ネズミのおんがえし': 7.5, 'ひきょうなこうもり': 8.0, 'マッチうりの少女': 8.5, 'はだかのおうさま': 4.0, 'にんぎょ姫': 4.0, 'みにくいアヒルの子': 4.0, 'おやゆび姫': 3.5, 'あかいくつ': 4.0, 'ゆきのじょうおう': 4.0, 'はくちょうのおうじ': 4.0, 'エンドウマメのうえにねたお姫さま': 4.0, 'ゆきだるま': 3.0, 'モミの木': 6.5, 'シンデレラ': 4.0, 'あかずきんちゃん': 4.0, 'オオカミと七ひきの子ヤギ': 4.0, 'ブレーメンのおんがくたい': 6.5, 'ヘンゼルとグレーテル': 3.5, 'しらゆき姫': 4.0, 'ながぐつをはいたネコ': 6.5, 'ねむり姫': 4.0, 'くつやのこびと': 4.0, 'カエルのおうさま': 4.0, 'しっぽの釣り': 3.0, 'ゆうれいのタマゴ': 5.5}\n"
     ]
    }
   ],
   "source": [
    "for k, v in target_age.items():\n",
    "    target_age[k]= float(v)\n",
    "print(target_age)"
   ]
  },
  {
   "cell_type": "code",
   "execution_count": null,
   "metadata": {},
   "outputs": [],
   "source": []
  },
  {
   "cell_type": "code",
   "execution_count": 7,
   "metadata": {},
   "outputs": [],
   "source": [
    "\n",
    "def story_make(story_n,file_name):\n",
    "    story_test = {}\n",
    "    for i in story_n:\n",
    "        with open(file_name+\"/\"+ i + \".txt\", 'r') as f:\n",
    "            kw_list = f.read().split(\"\\n\")\n",
    "            #print(kw_list)\n",
    "        test_str =\"\".join(kw_list)\n",
    "        story_test[i] = test_str\n",
    "    return story_test"
   ]
  },
  {
   "cell_type": "code",
   "execution_count": 8,
   "metadata": {},
   "outputs": [
    {
     "name": "stdout",
     "output_type": "stream",
     "text": [
      "['あかいくつ', 'あかずきんちゃん', 'あかたろう']\n",
      "92\n"
     ]
    }
   ],
   "source": [
    "test_s = story_make(story_name_list,\"童話\")\n",
    "print(story_name_list[0:3])\n",
    "#print(test_s[story_name_list[0]])\n",
    "print(len(test_s))"
   ]
  },
  {
   "cell_type": "code",
   "execution_count": 9,
   "metadata": {},
   "outputs": [],
   "source": [
    "\n",
    "def tf_idf(story_list):\n",
    "    tagger = MeCab.Tagger('-Owakati')\n",
    "\n",
    "    corpus = [tagger.parse(line).strip() for line in story_list.values()]\n",
    "    vectorizer = CountVectorizer(token_pattern=u'(?u)\\\\b\\\\w+\\\\b')\n",
    "\n",
    "    tf = vectorizer.fit_transform(corpus)\n",
    "    tf_vec = vectorizer.fit_transform(corpus).toarray()\n",
    "\n",
    "    features = vectorizer.get_feature_names()\n",
    "    tfidf_transformer = TfidfTransformer(norm='l2', sublinear_tf=True)\n",
    "\n",
    "    idf = tfidf_transformer.fit(tf_vec)\n",
    "\n",
    "    tfidf = tfidf_transformer.fit_transform(tf_vec)\n",
    "\n",
    "    return [tfidf, features]"
   ]
  },
  {
   "cell_type": "code",
   "execution_count": 10,
   "metadata": {},
   "outputs": [],
   "source": [
    "tfidf_test = tf_idf(test_s)"
   ]
  },
  {
   "cell_type": "code",
   "execution_count": 11,
   "metadata": {},
   "outputs": [
    {
     "data": {
      "text/html": [
       "<div>\n",
       "<style scoped>\n",
       "    .dataframe tbody tr th:only-of-type {\n",
       "        vertical-align: middle;\n",
       "    }\n",
       "\n",
       "    .dataframe tbody tr th {\n",
       "        vertical-align: top;\n",
       "    }\n",
       "\n",
       "    .dataframe thead th {\n",
       "        text-align: right;\n",
       "    }\n",
       "</style>\n",
       "<table border=\"1\" class=\"dataframe\">\n",
       "  <thead>\n",
       "    <tr style=\"text-align: right;\">\n",
       "      <th></th>\n",
       "      <th>10</th>\n",
       "      <th>12</th>\n",
       "      <th>13</th>\n",
       "      <th>2</th>\n",
       "      <th>3</th>\n",
       "      <th>7</th>\n",
       "      <th>々</th>\n",
       "      <th>あ</th>\n",
       "      <th>あぁ</th>\n",
       "      <th>ああ</th>\n",
       "      <th>...</th>\n",
       "      <th>１</th>\n",
       "      <th>１つ</th>\n",
       "      <th>１月</th>\n",
       "      <th>２</th>\n",
       "      <th>２つ</th>\n",
       "      <th>３</th>\n",
       "      <th>４</th>\n",
       "      <th>５</th>\n",
       "      <th>６</th>\n",
       "      <th>７</th>\n",
       "    </tr>\n",
       "  </thead>\n",
       "  <tbody>\n",
       "    <tr>\n",
       "      <th>あかいくつ</th>\n",
       "      <td>0.0</td>\n",
       "      <td>0.0</td>\n",
       "      <td>0.0</td>\n",
       "      <td>0.0</td>\n",
       "      <td>0.000000</td>\n",
       "      <td>0.0</td>\n",
       "      <td>0.000000</td>\n",
       "      <td>0.000000</td>\n",
       "      <td>0.046010</td>\n",
       "      <td>0.029309</td>\n",
       "      <td>...</td>\n",
       "      <td>0.000000</td>\n",
       "      <td>0.0</td>\n",
       "      <td>0.0</td>\n",
       "      <td>0.000000</td>\n",
       "      <td>0.0</td>\n",
       "      <td>0.0</td>\n",
       "      <td>0.0</td>\n",
       "      <td>0.0</td>\n",
       "      <td>0.000000</td>\n",
       "      <td>0.0</td>\n",
       "    </tr>\n",
       "    <tr>\n",
       "      <th>あかずきんちゃん</th>\n",
       "      <td>0.0</td>\n",
       "      <td>0.0</td>\n",
       "      <td>0.0</td>\n",
       "      <td>0.0</td>\n",
       "      <td>0.000000</td>\n",
       "      <td>0.0</td>\n",
       "      <td>0.000000</td>\n",
       "      <td>0.000000</td>\n",
       "      <td>0.000000</td>\n",
       "      <td>0.000000</td>\n",
       "      <td>...</td>\n",
       "      <td>0.000000</td>\n",
       "      <td>0.0</td>\n",
       "      <td>0.0</td>\n",
       "      <td>0.000000</td>\n",
       "      <td>0.0</td>\n",
       "      <td>0.0</td>\n",
       "      <td>0.0</td>\n",
       "      <td>0.0</td>\n",
       "      <td>0.000000</td>\n",
       "      <td>0.0</td>\n",
       "    </tr>\n",
       "    <tr>\n",
       "      <th>あかたろう</th>\n",
       "      <td>0.0</td>\n",
       "      <td>0.0</td>\n",
       "      <td>0.0</td>\n",
       "      <td>0.0</td>\n",
       "      <td>0.000000</td>\n",
       "      <td>0.0</td>\n",
       "      <td>0.000000</td>\n",
       "      <td>0.051330</td>\n",
       "      <td>0.000000</td>\n",
       "      <td>0.000000</td>\n",
       "      <td>...</td>\n",
       "      <td>0.000000</td>\n",
       "      <td>0.0</td>\n",
       "      <td>0.0</td>\n",
       "      <td>0.000000</td>\n",
       "      <td>0.0</td>\n",
       "      <td>0.0</td>\n",
       "      <td>0.0</td>\n",
       "      <td>0.0</td>\n",
       "      <td>0.000000</td>\n",
       "      <td>0.0</td>\n",
       "    </tr>\n",
       "    <tr>\n",
       "      <th>あまのはごろも</th>\n",
       "      <td>0.0</td>\n",
       "      <td>0.0</td>\n",
       "      <td>0.0</td>\n",
       "      <td>0.0</td>\n",
       "      <td>0.000000</td>\n",
       "      <td>0.0</td>\n",
       "      <td>0.000000</td>\n",
       "      <td>0.000000</td>\n",
       "      <td>0.000000</td>\n",
       "      <td>0.000000</td>\n",
       "      <td>...</td>\n",
       "      <td>0.000000</td>\n",
       "      <td>0.0</td>\n",
       "      <td>0.0</td>\n",
       "      <td>0.000000</td>\n",
       "      <td>0.0</td>\n",
       "      <td>0.0</td>\n",
       "      <td>0.0</td>\n",
       "      <td>0.0</td>\n",
       "      <td>0.000000</td>\n",
       "      <td>0.0</td>\n",
       "    </tr>\n",
       "    <tr>\n",
       "      <th>いっきゅうさん</th>\n",
       "      <td>0.0</td>\n",
       "      <td>0.0</td>\n",
       "      <td>0.0</td>\n",
       "      <td>0.0</td>\n",
       "      <td>0.000000</td>\n",
       "      <td>0.0</td>\n",
       "      <td>0.000000</td>\n",
       "      <td>0.047228</td>\n",
       "      <td>0.000000</td>\n",
       "      <td>0.050487</td>\n",
       "      <td>...</td>\n",
       "      <td>0.041416</td>\n",
       "      <td>0.0</td>\n",
       "      <td>0.0</td>\n",
       "      <td>0.037864</td>\n",
       "      <td>0.0</td>\n",
       "      <td>0.0</td>\n",
       "      <td>0.0</td>\n",
       "      <td>0.0</td>\n",
       "      <td>0.043772</td>\n",
       "      <td>0.0</td>\n",
       "    </tr>\n",
       "    <tr>\n",
       "      <th>...</th>\n",
       "      <td>...</td>\n",
       "      <td>...</td>\n",
       "      <td>...</td>\n",
       "      <td>...</td>\n",
       "      <td>...</td>\n",
       "      <td>...</td>\n",
       "      <td>...</td>\n",
       "      <td>...</td>\n",
       "      <td>...</td>\n",
       "      <td>...</td>\n",
       "      <td>...</td>\n",
       "      <td>...</td>\n",
       "      <td>...</td>\n",
       "      <td>...</td>\n",
       "      <td>...</td>\n",
       "      <td>...</td>\n",
       "      <td>...</td>\n",
       "      <td>...</td>\n",
       "      <td>...</td>\n",
       "      <td>...</td>\n",
       "      <td>...</td>\n",
       "    </tr>\n",
       "    <tr>\n",
       "      <th>ヘンゼルとグレーテル</th>\n",
       "      <td>0.0</td>\n",
       "      <td>0.0</td>\n",
       "      <td>0.0</td>\n",
       "      <td>0.0</td>\n",
       "      <td>0.000000</td>\n",
       "      <td>0.0</td>\n",
       "      <td>0.022912</td>\n",
       "      <td>0.000000</td>\n",
       "      <td>0.000000</td>\n",
       "      <td>0.034955</td>\n",
       "      <td>...</td>\n",
       "      <td>0.000000</td>\n",
       "      <td>0.0</td>\n",
       "      <td>0.0</td>\n",
       "      <td>0.000000</td>\n",
       "      <td>0.0</td>\n",
       "      <td>0.0</td>\n",
       "      <td>0.0</td>\n",
       "      <td>0.0</td>\n",
       "      <td>0.000000</td>\n",
       "      <td>0.0</td>\n",
       "    </tr>\n",
       "    <tr>\n",
       "      <th>マッチうりの少女</th>\n",
       "      <td>0.0</td>\n",
       "      <td>0.0</td>\n",
       "      <td>0.0</td>\n",
       "      <td>0.0</td>\n",
       "      <td>0.000000</td>\n",
       "      <td>0.0</td>\n",
       "      <td>0.037438</td>\n",
       "      <td>0.000000</td>\n",
       "      <td>0.000000</td>\n",
       "      <td>0.033734</td>\n",
       "      <td>...</td>\n",
       "      <td>0.000000</td>\n",
       "      <td>0.0</td>\n",
       "      <td>0.0</td>\n",
       "      <td>0.000000</td>\n",
       "      <td>0.0</td>\n",
       "      <td>0.0</td>\n",
       "      <td>0.0</td>\n",
       "      <td>0.0</td>\n",
       "      <td>0.000000</td>\n",
       "      <td>0.0</td>\n",
       "    </tr>\n",
       "    <tr>\n",
       "      <th>モミの木</th>\n",
       "      <td>0.0</td>\n",
       "      <td>0.0</td>\n",
       "      <td>0.0</td>\n",
       "      <td>0.0</td>\n",
       "      <td>0.000000</td>\n",
       "      <td>0.0</td>\n",
       "      <td>0.067388</td>\n",
       "      <td>0.000000</td>\n",
       "      <td>0.056297</td>\n",
       "      <td>0.000000</td>\n",
       "      <td>...</td>\n",
       "      <td>0.000000</td>\n",
       "      <td>0.0</td>\n",
       "      <td>0.0</td>\n",
       "      <td>0.000000</td>\n",
       "      <td>0.0</td>\n",
       "      <td>0.0</td>\n",
       "      <td>0.0</td>\n",
       "      <td>0.0</td>\n",
       "      <td>0.000000</td>\n",
       "      <td>0.0</td>\n",
       "    </tr>\n",
       "    <tr>\n",
       "      <th>三びきのクマ</th>\n",
       "      <td>0.0</td>\n",
       "      <td>0.0</td>\n",
       "      <td>0.0</td>\n",
       "      <td>0.0</td>\n",
       "      <td>0.070687</td>\n",
       "      <td>0.0</td>\n",
       "      <td>0.000000</td>\n",
       "      <td>0.000000</td>\n",
       "      <td>0.000000</td>\n",
       "      <td>0.000000</td>\n",
       "      <td>...</td>\n",
       "      <td>0.000000</td>\n",
       "      <td>0.0</td>\n",
       "      <td>0.0</td>\n",
       "      <td>0.000000</td>\n",
       "      <td>0.0</td>\n",
       "      <td>0.0</td>\n",
       "      <td>0.0</td>\n",
       "      <td>0.0</td>\n",
       "      <td>0.000000</td>\n",
       "      <td>0.0</td>\n",
       "    </tr>\n",
       "    <tr>\n",
       "      <th>三びきの子ブタ</th>\n",
       "      <td>0.0</td>\n",
       "      <td>0.0</td>\n",
       "      <td>0.0</td>\n",
       "      <td>0.0</td>\n",
       "      <td>0.000000</td>\n",
       "      <td>0.0</td>\n",
       "      <td>0.000000</td>\n",
       "      <td>0.000000</td>\n",
       "      <td>0.000000</td>\n",
       "      <td>0.000000</td>\n",
       "      <td>...</td>\n",
       "      <td>0.000000</td>\n",
       "      <td>0.0</td>\n",
       "      <td>0.0</td>\n",
       "      <td>0.000000</td>\n",
       "      <td>0.0</td>\n",
       "      <td>0.0</td>\n",
       "      <td>0.0</td>\n",
       "      <td>0.0</td>\n",
       "      <td>0.000000</td>\n",
       "      <td>0.0</td>\n",
       "    </tr>\n",
       "  </tbody>\n",
       "</table>\n",
       "<p>92 rows × 5343 columns</p>\n",
       "</div>"
      ],
      "text/plain": [
       "             10   12   13    2         3    7         々         あ        あぁ  \\\n",
       "あかいくつ       0.0  0.0  0.0  0.0  0.000000  0.0  0.000000  0.000000  0.046010   \n",
       "あかずきんちゃん    0.0  0.0  0.0  0.0  0.000000  0.0  0.000000  0.000000  0.000000   \n",
       "あかたろう       0.0  0.0  0.0  0.0  0.000000  0.0  0.000000  0.051330  0.000000   \n",
       "あまのはごろも     0.0  0.0  0.0  0.0  0.000000  0.0  0.000000  0.000000  0.000000   \n",
       "いっきゅうさん     0.0  0.0  0.0  0.0  0.000000  0.0  0.000000  0.047228  0.000000   \n",
       "...         ...  ...  ...  ...       ...  ...       ...       ...       ...   \n",
       "ヘンゼルとグレーテル  0.0  0.0  0.0  0.0  0.000000  0.0  0.022912  0.000000  0.000000   \n",
       "マッチうりの少女    0.0  0.0  0.0  0.0  0.000000  0.0  0.037438  0.000000  0.000000   \n",
       "モミの木        0.0  0.0  0.0  0.0  0.000000  0.0  0.067388  0.000000  0.056297   \n",
       "三びきのクマ      0.0  0.0  0.0  0.0  0.070687  0.0  0.000000  0.000000  0.000000   \n",
       "三びきの子ブタ     0.0  0.0  0.0  0.0  0.000000  0.0  0.000000  0.000000  0.000000   \n",
       "\n",
       "                  ああ  ...         １   １つ   １月         ２   ２つ    ３    ４    ５  \\\n",
       "あかいくつ       0.029309  ...  0.000000  0.0  0.0  0.000000  0.0  0.0  0.0  0.0   \n",
       "あかずきんちゃん    0.000000  ...  0.000000  0.0  0.0  0.000000  0.0  0.0  0.0  0.0   \n",
       "あかたろう       0.000000  ...  0.000000  0.0  0.0  0.000000  0.0  0.0  0.0  0.0   \n",
       "あまのはごろも     0.000000  ...  0.000000  0.0  0.0  0.000000  0.0  0.0  0.0  0.0   \n",
       "いっきゅうさん     0.050487  ...  0.041416  0.0  0.0  0.037864  0.0  0.0  0.0  0.0   \n",
       "...              ...  ...       ...  ...  ...       ...  ...  ...  ...  ...   \n",
       "ヘンゼルとグレーテル  0.034955  ...  0.000000  0.0  0.0  0.000000  0.0  0.0  0.0  0.0   \n",
       "マッチうりの少女    0.033734  ...  0.000000  0.0  0.0  0.000000  0.0  0.0  0.0  0.0   \n",
       "モミの木        0.000000  ...  0.000000  0.0  0.0  0.000000  0.0  0.0  0.0  0.0   \n",
       "三びきのクマ      0.000000  ...  0.000000  0.0  0.0  0.000000  0.0  0.0  0.0  0.0   \n",
       "三びきの子ブタ     0.000000  ...  0.000000  0.0  0.0  0.000000  0.0  0.0  0.0  0.0   \n",
       "\n",
       "                   ６    ７  \n",
       "あかいくつ       0.000000  0.0  \n",
       "あかずきんちゃん    0.000000  0.0  \n",
       "あかたろう       0.000000  0.0  \n",
       "あまのはごろも     0.000000  0.0  \n",
       "いっきゅうさん     0.043772  0.0  \n",
       "...              ...  ...  \n",
       "ヘンゼルとグレーテル  0.000000  0.0  \n",
       "マッチうりの少女    0.000000  0.0  \n",
       "モミの木        0.000000  0.0  \n",
       "三びきのクマ      0.000000  0.0  \n",
       "三びきの子ブタ     0.000000  0.0  \n",
       "\n",
       "[92 rows x 5343 columns]"
      ]
     },
     "execution_count": 11,
     "metadata": {},
     "output_type": "execute_result"
    }
   ],
   "source": [
    "df_test = pd.DataFrame( tfidf_test[0].toarray(),\n",
    "                  index = test_s.keys(),\n",
    "                  columns = tfidf_test[1]\n",
    ")\n",
    "\n",
    "df_test"
   ]
  },
  {
   "cell_type": "code",
   "execution_count": null,
   "metadata": {},
   "outputs": [],
   "source": []
  },
  {
   "cell_type": "code",
   "execution_count": 12,
   "metadata": {},
   "outputs": [
    {
     "data": {
      "text/html": [
       "<div>\n",
       "<style scoped>\n",
       "    .dataframe tbody tr th:only-of-type {\n",
       "        vertical-align: middle;\n",
       "    }\n",
       "\n",
       "    .dataframe tbody tr th {\n",
       "        vertical-align: top;\n",
       "    }\n",
       "\n",
       "    .dataframe thead th {\n",
       "        text-align: right;\n",
       "    }\n",
       "</style>\n",
       "<table border=\"1\" class=\"dataframe\">\n",
       "  <thead>\n",
       "    <tr style=\"text-align: right;\">\n",
       "      <th></th>\n",
       "      <th>対象年齢</th>\n",
       "    </tr>\n",
       "  </thead>\n",
       "  <tbody>\n",
       "    <tr>\n",
       "      <th>ももたろう</th>\n",
       "      <td>4</td>\n",
       "    </tr>\n",
       "    <tr>\n",
       "      <th>ぶんぶくちゃがま</th>\n",
       "      <td>4</td>\n",
       "    </tr>\n",
       "    <tr>\n",
       "      <th>かぜのかみとこども</th>\n",
       "      <td>4</td>\n",
       "    </tr>\n",
       "    <tr>\n",
       "      <th>わらしべちょうじゃ</th>\n",
       "      <td>4</td>\n",
       "    </tr>\n",
       "    <tr>\n",
       "      <th>びんぼう神とふくの神</th>\n",
       "      <td>1</td>\n",
       "    </tr>\n",
       "    <tr>\n",
       "      <th>...</th>\n",
       "      <td>...</td>\n",
       "    </tr>\n",
       "    <tr>\n",
       "      <th>ねむり姫</th>\n",
       "      <td>4</td>\n",
       "    </tr>\n",
       "    <tr>\n",
       "      <th>くつやのこびと</th>\n",
       "      <td>4</td>\n",
       "    </tr>\n",
       "    <tr>\n",
       "      <th>カエルのおうさま</th>\n",
       "      <td>4</td>\n",
       "    </tr>\n",
       "    <tr>\n",
       "      <th>しっぽの釣り</th>\n",
       "      <td>3</td>\n",
       "    </tr>\n",
       "    <tr>\n",
       "      <th>ゆうれいのタマゴ</th>\n",
       "      <td>5</td>\n",
       "    </tr>\n",
       "  </tbody>\n",
       "</table>\n",
       "<p>92 rows × 1 columns</p>\n",
       "</div>"
      ],
      "text/plain": [
       "            対象年齢\n",
       "ももたろう          4\n",
       "ぶんぶくちゃがま       4\n",
       "かぜのかみとこども      4\n",
       "わらしべちょうじゃ      4\n",
       "びんぼう神とふくの神     1\n",
       "...          ...\n",
       "ねむり姫           4\n",
       "くつやのこびと        4\n",
       "カエルのおうさま       4\n",
       "しっぽの釣り         3\n",
       "ゆうれいのタマゴ       5\n",
       "\n",
       "[92 rows x 1 columns]"
      ]
     },
     "execution_count": 12,
     "metadata": {},
     "output_type": "execute_result"
    }
   ],
   "source": [
    "df_2_test = pd.DataFrame( target_age.values(),\n",
    "                  index = target_age.keys(),\n",
    "                  columns = [\"対象年齢\"]\n",
    ")\n",
    "df_2_test['対象年齢'] = df_2_test['対象年齢'].astype('int')\n",
    "df_2_test"
   ]
  },
  {
   "cell_type": "code",
   "execution_count": 13,
   "metadata": {},
   "outputs": [
    {
     "data": {
      "text/plain": [
       "<matplotlib.axes._subplots.AxesSubplot at 0x1184d0978>"
      ]
     },
     "execution_count": 13,
     "metadata": {},
     "output_type": "execute_result"
    },
    {
     "data": {
      "image/png": "[encoded data removed]",
      "text/plain": [
       "<Figure size 432x288 with 1 Axes>"
      ]
     },
     "metadata": {
      "needs_background": "light"
     },
     "output_type": "display_data"
    }
   ],
   "source": [
    "df_2_test.plot()"
   ]
  },
  {
   "cell_type": "code",
   "execution_count": null,
   "metadata": {},
   "outputs": [],
   "source": []
  },
  {
   "cell_type": "code",
   "execution_count": 14,
   "metadata": {},
   "outputs": [
    {
     "name": "stdout",
     "output_type": "stream",
     "text": [
      "File already exists.\n"
     ]
    }
   ],
   "source": [
    "import os\n",
    "import urllib.request\n",
    "\n",
    "def download_stopwords(path):\n",
    "    url = 'http://svn.sourceforge.jp/svnroot/slothlib/CSharp/Version1/SlothLib/NLP/Filter/StopWord/word/Japanese.txt'\n",
    "    if os.path.exists(path):\n",
    "        print('File already exists.')\n",
    "    else:\n",
    "        print('Downloading...')\n",
    "        # Download the file from `url` and save it locally under `file_name`:\n",
    "        urllib.request.urlretrieve(url, path)\n",
    "\n",
    "def create_stopwords(file_path):\n",
    "    stop_words = []\n",
    "    for w in open(path, \"r\"):\n",
    "        w = w.replace('\\n','')\n",
    "        if len(w) > 0:\n",
    "          stop_words.append(w)\n",
    "    return stop_words    \n",
    "\n",
    "path = \"stop_words.txt\"\n",
    "download_stopwords(path)\n",
    "stop_words = create_stopwords(path)"
   ]
  },
  {
   "cell_type": "code",
   "execution_count": 15,
   "metadata": {},
   "outputs": [
    {
     "name": "stdout",
     "output_type": "stream",
     "text": [
      "['あげ', 'あっ', 'あの', 'あり', 'ありがとう', 'いい', 'いう', 'いき', 'いく', 'いっ', 'いつも', 'お', 'おじいさん', 'おばあさん', 'おり', 'お前', 'お母さん', 'お金', 'かい', 'かけ', 'きれい', 'くる', 'くれ', 'こ', 'こう', 'この', 'こんな', 'さ', 'しばらく', 'しまい', 'しまっ', 'じゃ', 'すぐ', 'する', 'すると', 'ず', 'せ', 'そこで', 'そして', 'それから', 'そんな', 'ぞ', 'たい', 'たら', 'だけ', 'だっ', 'だろ', 'でき', 'でし', 'でしょ', 'でも', 'という', 'とうとう', 'とても', 'どう', 'なかっ', 'ながら', 'なく', 'なさい', 'なっ', 'なら', 'なり', 'なる', 'ね', 'ので', 'ば', 'へ', 'ましょ', 'ます', 'また', 'まで', 'み', 'みる', 'むかし', 'もう', 'や', 'やがて', 'やっ', 'やってき', 'やる', 'よ', 'よく', 'られ', 'れ', 'わ', 'ー', '一緒', '住ん', '僕', '入っ', '入れ', '出', '出かけ', '出し', '喜び', '声', '夜', '大', '大きな', '始め', '姿', '子供', '小さな', '山', '帰っ', '帰り', '幸せ', '心', '思い', '思っ', '持っ', '昔', '晩', '暮らし', '朝', '来', '歩い', '美しい', '聞い', '落ち', '行き', '行く', '行っ', '見え', '見つけ', '言い', '言う', '言っ', '言わ', '連れ', '音', '顔', '食べ']\n",
      "<class 'list'>\n",
      "133\n",
      "[[0 0 1 ... 0 0 0]\n",
      " [0 0 0 ... 0 0 2]\n",
      " [0 1 0 ... 0 0 2]\n",
      " ...\n",
      " [1 0 1 ... 1 0 0]\n",
      " [0 1 0 ... 1 0 0]\n",
      " [0 0 0 ... 0 0 6]]\n",
      "92\n"
     ]
    }
   ],
   "source": [
    "\n",
    "tagger = MeCab.Tagger('-Owakati')\n",
    "corpus2 = [tagger.parse(line).strip() for line in test_s.values()]\n",
    "cv2 = CountVectorizer(min_df=0.20, max_df=0.80,stop_words=stop_words,token_pattern=u'(?u)\\\\b\\\\w+\\\\b')\n",
    "matrix2 = cv2.fit_transform(corpus2)\n",
    "\n",
    "print(cv2.get_feature_names())\n",
    "print(type(cv2.get_feature_names()))\n",
    "print(len(cv2.get_feature_names()))\n",
    "\n",
    "print(matrix2.toarray())\n",
    "print(len(matrix2.toarray()))"
   ]
  },
  {
   "cell_type": "code",
   "execution_count": 16,
   "metadata": {},
   "outputs": [
    {
     "name": "stdout",
     "output_type": "stream",
     "text": [
      "tfidf:\n",
      "[[0.         0.         0.07893619 ... 0.         0.         0.        ]\n",
      " [0.         0.         0.         ... 0.         0.         0.21892317]\n",
      " [0.         0.09403781 0.         ... 0.         0.         0.13171393]\n",
      " ...\n",
      " [0.10004561 0.         0.07271019 ... 0.09628689 0.         0.        ]\n",
      " [0.         0.15109682 0.         ... 0.14542011 0.         0.        ]\n",
      " [0.         0.         0.         ... 0.         0.         0.30703527]]\n",
      "<class 'numpy.ndarray'>\n",
      "<class 'scipy.sparse.csr.csr_matrix'>\n"
     ]
    }
   ],
   "source": [
    "tf_vec_cv = cv2.fit_transform(corpus2).toarray()\n",
    "features_cv = cv2.get_feature_names()\n",
    "tfidf_transformer_cv = TfidfTransformer(norm='l2', sublinear_tf=True)\n",
    "idf_cv = tfidf_transformer_cv.fit(tf_vec_cv)\n",
    "tfidf_cv = tfidf_transformer_cv.fit_transform(tf_vec_cv)\n",
    "print(\"tfidf:\\n{}\".format(tfidf_cv.toarray()))\n",
    "print(type(tfidf_cv.toarray()))\n",
    "print(type(tfidf_cv))"
   ]
  },
  {
   "cell_type": "code",
   "execution_count": 44,
   "metadata": {},
   "outputs": [],
   "source": [
    "df_t = pd.DataFrame( tfidf_cv.toarray(),\n",
    "                  index = test_s.keys(),\n",
    "                  columns = features_cv\n",
    "                   )\n",
    "\n",
    "#df_t"
   ]
  },
  {
   "cell_type": "code",
   "execution_count": null,
   "metadata": {},
   "outputs": [],
   "source": []
  },
  {
   "cell_type": "code",
   "execution_count": null,
   "metadata": {},
   "outputs": [],
   "source": []
  },
  {
   "cell_type": "code",
   "execution_count": 18,
   "metadata": {},
   "outputs": [],
   "source": [
    "from sklearn.neighbors import KNeighborsClassifier\n",
    "from sklearn.model_selection import train_test_split\n",
    "X = df_test\n",
    "Y = df_2_test\n",
    "x_train, x_test, y_train, y_test= train_test_split(X,Y,test_size=0.3, random_state=0)"
   ]
  },
  {
   "cell_type": "code",
   "execution_count": 19,
   "metadata": {},
   "outputs": [
    {
     "name": "stdout",
     "output_type": "stream",
     "text": [
      "[[4.01126353 4.        ]\n",
      " [4.47289882 4.        ]\n",
      " [4.3394485  4.        ]\n",
      " [4.21705984 5.        ]\n",
      " [4.19291731 7.        ]\n",
      " [4.4088426  4.        ]\n",
      " [4.20738195 3.        ]\n",
      " [4.06469491 4.        ]\n",
      " [4.58933802 4.        ]\n",
      " [4.00457075 8.        ]\n",
      " [4.15797691 2.        ]\n",
      " [4.25869335 3.        ]\n",
      " [4.36288714 4.        ]\n",
      " [3.74274969 6.        ]\n",
      " [4.42558336 8.        ]\n",
      " [4.29599231 8.        ]\n",
      " [3.81360941 4.        ]\n",
      " [4.05771048 4.        ]\n",
      " [4.2140498  3.        ]\n",
      " [4.17023685 4.        ]\n",
      " [4.05499885 4.        ]\n",
      " [4.29435061 4.        ]\n",
      " [4.19807629 4.        ]\n",
      " [3.93706172 4.        ]\n",
      " [4.31852148 4.        ]\n",
      " [4.0314104  4.        ]\n",
      " [4.10762479 5.        ]\n",
      " [4.07729506 4.        ]]\n"
     ]
    }
   ],
   "source": [
    "from sklearn import linear_model\n",
    "from sklearn.linear_model import LinearRegression \n",
    "regressor = LinearRegression() # 線形重回帰\n",
    "regressor.fit(x_train, y_train) # 学習\n",
    "\n",
    "# Make predictions using the testing set\n",
    "predicted = regressor.predict(x_test)\n",
    "\n",
    "# Check the predictions vs true answer\n",
    "print(np.c_[predicted, y_test])"
   ]
  },
  {
   "cell_type": "code",
   "execution_count": null,
   "metadata": {},
   "outputs": [],
   "source": []
  },
  {
   "cell_type": "code",
   "execution_count": null,
   "metadata": {},
   "outputs": [],
   "source": []
  },
  {
   "cell_type": "code",
   "execution_count": null,
   "metadata": {},
   "outputs": [],
   "source": []
  },
  {
   "cell_type": "code",
   "execution_count": 20,
   "metadata": {},
   "outputs": [],
   "source": [
    "x_list = df_test.values\n",
    "y_list = df_2_test.values"
   ]
  },
  {
   "cell_type": "code",
   "execution_count": 21,
   "metadata": {},
   "outputs": [],
   "source": [
    "from sklearn.neighbors import KNeighborsClassifier\n",
    "from sklearn.model_selection import train_test_split\n",
    "X = x_list\n",
    "Y = y_list\n",
    "Y=np.reshape(Y,(-1))\n",
    "X_train, X_test, Y_train, Y_test = train_test_split(X, Y, test_size=0.30, random_state=2019)"
   ]
  },
  {
   "cell_type": "code",
   "execution_count": 22,
   "metadata": {},
   "outputs": [],
   "source": [
    "from sklearn.model_selection import StratifiedKFold\n",
    "from sklearn.model_selection import cross_validate\n"
   ]
  },
  {
   "cell_type": "code",
   "execution_count": 23,
   "metadata": {},
   "outputs": [
    {
     "data": {
      "text/plain": [
       "1"
      ]
     },
     "execution_count": 23,
     "metadata": {},
     "output_type": "execute_result"
    }
   ],
   "source": [
    "Y=np.reshape(Y,(-1))\n",
    "Y.ndim"
   ]
  },
  {
   "cell_type": "code",
   "execution_count": 24,
   "metadata": {},
   "outputs": [
    {
     "data": {
      "text/plain": [
       "array([ 4,  4,  4,  4,  1,  3,  4,  3,  4,  4,  3,  4,  4,  7,  4,  4,  5,\n",
       "        4,  4,  3,  3,  3,  4,  4,  4,  5,  4,  2,  7,  4,  4,  4,  4,  4,\n",
       "        4,  3,  4,  4,  3,  4,  4,  4,  8,  4,  4,  2,  2,  4,  4,  4,  4,\n",
       "        3,  7,  4,  4,  8,  5,  4,  9,  5,  3,  4,  5,  8, 11,  4,  7,  7,\n",
       "        8,  8,  4,  4,  4,  3,  4,  4,  4,  4,  3,  6,  4,  4,  4,  6,  3,\n",
       "        4,  6,  4,  4,  4,  3,  5])"
      ]
     },
     "execution_count": 24,
     "metadata": {},
     "output_type": "execute_result"
    }
   ],
   "source": [
    "Y"
   ]
  },
  {
   "cell_type": "code",
   "execution_count": null,
   "metadata": {},
   "outputs": [],
   "source": []
  },
  {
   "cell_type": "code",
   "execution_count": null,
   "metadata": {},
   "outputs": [],
   "source": []
  },
  {
   "cell_type": "code",
   "execution_count": null,
   "metadata": {},
   "outputs": [],
   "source": []
  },
  {
   "cell_type": "code",
   "execution_count": null,
   "metadata": {},
   "outputs": [],
   "source": []
  },
  {
   "cell_type": "code",
   "execution_count": null,
   "metadata": {},
   "outputs": [],
   "source": []
  },
  {
   "cell_type": "code",
   "execution_count": null,
   "metadata": {},
   "outputs": [],
   "source": []
  },
  {
   "cell_type": "code",
   "execution_count": null,
   "metadata": {},
   "outputs": [],
   "source": []
  },
  {
   "cell_type": "code",
   "execution_count": null,
   "metadata": {},
   "outputs": [],
   "source": []
  },
  {
   "cell_type": "code",
   "execution_count": 26,
   "metadata": {},
   "outputs": [
    {
     "name": "stdout",
     "output_type": "stream",
     "text": [
      "{'fit_time': array([0.01304388, 0.00640988, 0.00998688, 0.01036501, 0.01139307]),\n",
      " 'score_time': array([0.00497723, 0.00308609, 0.00451612, 0.01636887, 0.002985  ]),\n",
      " 'test_score': array([-0.50637495, -0.13970078, -0.04612073, -0.38528696, -0.05491915])}\n"
     ]
    }
   ],
   "source": [
    "from sklearn.model_selection import GridSearchCV\n",
    "from sklearn.svm import SVR\n",
    "from sklearn.model_selection import cross_validate\n",
    "from sklearn.model_selection import KFold\n",
    "import pprint\n",
    "\n",
    "svr = SVR(kernel='rbf', C=1, epsilon=0.9, gamma='auto')\n",
    "kf = KFold(n_splits=5,shuffle=True,random_state=1)\n",
    "\n",
    "pprint.pprint(cross_validate(svr,X,Y,scoring=\"r2\",cv=kf))"
   ]
  },
  {
   "cell_type": "code",
   "execution_count": null,
   "metadata": {},
   "outputs": [],
   "source": []
  },
  {
   "cell_type": "code",
   "execution_count": 27,
   "metadata": {},
   "outputs": [
    {
     "name": "stdout",
     "output_type": "stream",
     "text": [
      "[[4.10012223 4.        ]\n",
      " [4.10016654 4.        ]\n",
      " [4.10048136 4.        ]\n",
      " [4.90010783 5.        ]\n",
      " [4.18369572 7.        ]\n",
      " [4.09957447 4.        ]\n",
      " [4.19954029 3.        ]\n",
      " [4.09954195 4.        ]\n",
      " [4.10009933 4.        ]\n",
      " [4.16767504 8.        ]\n",
      " [4.18388704 2.        ]\n",
      " [3.36392257 3.        ]\n",
      " [4.10002382 4.        ]\n",
      " [4.16287603 6.        ]\n",
      " [4.17873013 8.        ]\n",
      " [5.01636056 8.        ]\n",
      " [4.10041583 4.        ]\n",
      " [4.10016284 4.        ]\n",
      " [3.4169962  3.        ]\n",
      " [4.10017382 4.        ]\n",
      " [4.15104264 4.        ]\n",
      " [4.09999787 4.        ]\n",
      " [4.09972063 4.        ]\n",
      " [4.17603478 4.        ]\n",
      " [4.20215971 4.        ]\n",
      " [4.10010997 4.        ]\n",
      " [4.90010257 5.        ]\n",
      " [4.09971397 4.        ]]\n"
     ]
    }
   ],
   "source": [
    "from sklearn.model_selection import GridSearchCV\n",
    "from sklearn.svm import SVR\n",
    "from sklearn.model_selection import cross_validate\n",
    "from sklearn.model_selection import KFold\n",
    "import pprint\n",
    "\n",
    "svr = SVR(kernel = \"rbf\",gamma = 1)\n",
    "#kf = KFold(n_splits=5,shuffle=True,random_state=1)\n",
    "\n",
    "svr.fit(X_train, Y_train)\n",
    "\n",
    "predicted_svr = svr.predict(x_test)\n",
    "print(np.c_[predicted_svr, y_test])"
   ]
  },
  {
   "cell_type": "code",
   "execution_count": 28,
   "metadata": {},
   "outputs": [
    {
     "data": {
      "text/plain": [
       "(0.48309097792373445, -0.014193998660791962)"
      ]
     },
     "execution_count": 28,
     "metadata": {},
     "output_type": "execute_result"
    }
   ],
   "source": [
    "svr.score(X_train, Y_train), svr.score(X_test, Y_test)"
   ]
  },
  {
   "cell_type": "code",
   "execution_count": 29,
   "metadata": {},
   "outputs": [
    {
     "data": {
      "image/png": "[encoded data removed]",
      "text/plain": [
       "<Figure size 288x288 with 1 Axes>"
      ]
     },
     "metadata": {
      "needs_background": "light"
     },
     "output_type": "display_data"
    }
   ],
   "source": [
    "%matplotlib inline\n",
    "import matplotlib.pyplot as plt\n",
    "y_pred = svr.predict(x_test)\n",
    "plt.figure(figsize=(4,4))\n",
    "plt.scatter(Y_test, y_pred, alpha=0.2, c=\"blue\")\n",
    "#plt.scatter(Y_train, y_pred, alpha=0.2, c=\"red\")\n",
    "plt.plot([Y.min(), Y.max()], [Y.min(), Y.max()], c=\"black\")\n",
    "#plt.plot(svr.support_, c=\"red\")\n",
    "plt.grid()\n",
    "plt.xlabel(\"Real Y\")\n",
    "plt.ylabel(\"Predicted Y\")\n",
    "plt.show()"
   ]
  },
  {
   "cell_type": "code",
   "execution_count": 30,
   "metadata": {},
   "outputs": [
    {
     "data": {
      "text/plain": [
       "SVR(C=1, gamma='auto')"
      ]
     },
     "execution_count": 30,
     "metadata": {},
     "output_type": "execute_result"
    }
   ],
   "source": [
    "reg_linear = SVR(kernel='linear', C=1, epsilon=0.1, gamma='auto')\n",
    "reg_poly = SVR(kernel='poly', C=1, epsilon=0.1, gamma='auto')\n",
    "reg_rbf = SVR(kernel='rbf', C=1, epsilon=0.1, gamma='auto')\n",
    "\n",
    "reg_linear.fit(X_train, np.ravel(Y_train))\n",
    "reg_poly.fit(X_train, np.ravel(Y_train))\n",
    "reg_rbf.fit(X_train, np.ravel(Y_train))"
   ]
  },
  {
   "cell_type": "code",
   "execution_count": 31,
   "metadata": {},
   "outputs": [
    {
     "data": {
      "image/png": "[encoded data removed]",
      "text/plain": [
       "<Figure size 432x288 with 1 Axes>"
      ]
     },
     "metadata": {
      "needs_background": "light"
     },
     "output_type": "display_data"
    }
   ],
   "source": [
    "scores = (reg_linear.score(X_test, Y_test),\n",
    "reg_poly.score(X_test, Y_test),\n",
    "reg_rbf.score(X_test, Y_test))\n",
    "\n",
    "plt.bar((\"Linear\", \"poly\", \"RBF\"), scores)\n",
    "plt.xlabel(\"Kernel\")\n",
    "plt.ylabel(\"$R^2$ score\")\n",
    "plt.show()"
   ]
  },
  {
   "cell_type": "code",
   "execution_count": 32,
   "metadata": {},
   "outputs": [
    {
     "data": {
      "text/plain": [
       "SVR(C=1, coef0=1, degree=0, gamma='auto', kernel='poly')"
      ]
     },
     "execution_count": 32,
     "metadata": {},
     "output_type": "execute_result"
    }
   ],
   "source": [
    "reg_poly = SVR(kernel='poly', C=1, epsilon=0.1, gamma='auto', degree=0, coef0=1)\n",
    "reg_poly.fit(X_train, np.ravel(Y_train))"
   ]
  },
  {
   "cell_type": "code",
   "execution_count": 33,
   "metadata": {},
   "outputs": [
    {
     "data": {
      "image/png": "[encoded data removed]",
      "text/plain": [
       "<Figure size 432x288 with 1 Axes>"
      ]
     },
     "metadata": {
      "needs_background": "light"
     },
     "output_type": "display_data"
    }
   ],
   "source": [
    "scores = (reg_linear.score(X_test, Y_test),\n",
    "reg_poly.score(X_test, Y_test),\n",
    "reg_rbf.score(X_test, Y_test))\n",
    "\n",
    "plt.bar((\"Linear\", \"poly (degree=6)\", \"RBF\"), scores)\n",
    "plt.xlabel(\"Kernel\")\n",
    "plt.ylabel(\"$R^2$ score\")\n",
    "plt.show()"
   ]
  },
  {
   "cell_type": "code",
   "execution_count": 45,
   "metadata": {},
   "outputs": [],
   "source": [
    "model1 = SVR(kernel='rbf', C=1, epsilon=0.0,gamma='auto').fit(X_train, np.ravel(Y_train))\n",
    "model2 = SVR(kernel='rbf', C=1, epsilon=0.1, gamma='auto').fit(X_train, np.ravel(Y_train))\n",
    "model3 = SVR(kernel='rbf', C=1, epsilon=0.9, gamma='auto').fit(X_train, np.ravel(Y_train))"
   ]
  },
  {
   "cell_type": "code",
   "execution_count": 47,
   "metadata": {},
   "outputs": [
    {
     "data": {
      "image/png": "[encoded data removed]",
      "text/plain": [
       "<Figure size 432x288 with 1 Axes>"
      ]
     },
     "metadata": {
      "needs_background": "light"
     },
     "output_type": "display_data"
    },
    {
     "name": "stdout",
     "output_type": "stream",
     "text": [
      "(-0.043983226019378874, -0.02584788987773412, -0.02588781765625292)\n"
     ]
    }
   ],
   "source": [
    "scores = (model1.score(X_test, Y_test), model2.score(X_test, Y_test), model3.score(X_test, Y_test))\n",
    "\n",
    "plt.bar((\"0.0\", \"0.1\", \"0.9\"), scores)\n",
    "plt.xlabel(\"$\\\\varepsilon$\")\n",
    "plt.ylabel(\"$R^2$ score\")\n",
    "plt.show()\n",
    "print(scores)"
   ]
  },
  {
   "cell_type": "code",
   "execution_count": 50,
   "metadata": {},
   "outputs": [],
   "source": [
    "model4 = SVR(kernel='rbf', C=0.01, epsilon=0.1, gamma='auto').fit(X_train, np.ravel(Y_train))\n",
    "model5 = SVR(kernel='rbf', C=1, epsilon=0.1, gamma='auto').fit(X_train, np.ravel(Y_train))\n",
    "model6 = SVR(kernel='rbf', C=1000, epsilon=0.1, gamma='auto').fit(X_train, np.ravel(Y_train))"
   ]
  },
  {
   "cell_type": "code",
   "execution_count": 51,
   "metadata": {},
   "outputs": [
    {
     "data": {
      "image/png": "[encoded data removed]",
      "text/plain": [
       "<Figure size 432x288 with 1 Axes>"
      ]
     },
     "metadata": {
      "needs_background": "light"
     },
     "output_type": "display_data"
    }
   ],
   "source": [
    "scores = (model4.score(X_test, Y_test), model5.score(X_test, Y_test), model6.score(X_test, Y_test))\n",
    "\n",
    "plt.bar((\"0.01\", \"1\", \"1000\"), scores)\n",
    "plt.xlabel(\"$C$\")\n",
    "plt.ylabel(\"$R^2$ score\")\n",
    "plt.show()"
   ]
  },
  {
   "cell_type": "code",
   "execution_count": 38,
   "metadata": {},
   "outputs": [],
   "source": [
    "model7 = SVR(kernel='rbf', C=1000, epsilon=0.9, gamma='auto').fit(X_train, np.ravel(Y_train))"
   ]
  },
  {
   "cell_type": "code",
   "execution_count": 48,
   "metadata": {},
   "outputs": [],
   "source": [
    "linear_model1 = SVR(kernel='linear', C=1, epsilon=0.0,gamma='auto').fit(X_train, np.ravel(Y_train))\n",
    "linear_model2 = SVR(kernel='linear', C=1, epsilon=0.1, gamma='auto').fit(X_train, np.ravel(Y_train))\n",
    "linear_model3 = SVR(kernel='linear', C=1, epsilon=0.9, gamma='auto').fit(X_train, np.ravel(Y_train))"
   ]
  },
  {
   "cell_type": "code",
   "execution_count": 49,
   "metadata": {},
   "outputs": [
    {
     "data": {
      "image/png": "[encoded data removed]",
      "text/plain": [
       "<Figure size 432x288 with 1 Axes>"
      ]
     },
     "metadata": {
      "needs_background": "light"
     },
     "output_type": "display_data"
    },
    {
     "name": "stdout",
     "output_type": "stream",
     "text": [
      "(-0.025461608265235913, -0.015131007550685194, 0.004281157635415922)\n"
     ]
    }
   ],
   "source": [
    "scores = (linear_model1.score(X_test, Y_test), linear_model2.score(X_test, Y_test), linear_model3.score(X_test, Y_test))\n",
    "\n",
    "plt.bar((\"0.0\", \"0.1\", \"0.9\"), scores)\n",
    "plt.xlabel(\"$\\\\varepsilon$\")\n",
    "plt.ylabel(\"$R^2$ score\")\n",
    "plt.show()\n",
    "print(scores)"
   ]
  },
  {
   "cell_type": "code",
   "execution_count": 41,
   "metadata": {},
   "outputs": [],
   "source": [
    "linear_model4 = SVR(kernel='linear', C=0.01, epsilon=0.1, gamma='auto').fit(X_train, np.ravel(Y_train))\n",
    "linear_model5 = SVR(kernel='linear', C=1, epsilon=0.1, gamma='auto').fit(X_train, np.ravel(Y_train))\n",
    "linear_model6 = SVR(kernel='linear', C=1000, epsilon=0.1, gamma='auto').fit(X_train, np.ravel(Y_train))\n",
    "linear_model7 = SVR(kernel='linear', C=1000, epsilon=0.9, gamma='auto').fit(X_train, np.ravel(Y_train))"
   ]
  },
  {
   "cell_type": "code",
   "execution_count": 42,
   "metadata": {},
   "outputs": [
    {
     "data": {
      "image/png": "[encoded data removed]",
      "text/plain": [
       "<Figure size 432x288 with 1 Axes>"
      ]
     },
     "metadata": {
      "needs_background": "light"
     },
     "output_type": "display_data"
    }
   ],
   "source": [
    "scores = (linear_model4.score(X_test, Y_test), linear_model5.score(X_test, Y_test), linear_model6.score(X_test, Y_test),linear_model7.score(X_test, Y_test))\n",
    "\n",
    "plt.bar((\"0.01\", \"1\", \"1000\",\"model7\"), scores)\n",
    "plt.xlabel(\"$C$\")\n",
    "plt.ylabel(\"$R^2$ score\")\n",
    "plt.show()"
   ]
  },
  {
   "cell_type": "code",
   "execution_count": 43,
   "metadata": {},
   "outputs": [
    {
     "data": {
      "image/png": "[encoded data removed]",
      "text/plain": [
       "<Figure size 288x288 with 1 Axes>"
      ]
     },
     "metadata": {
      "needs_background": "light"
     },
     "output_type": "display_data"
    }
   ],
   "source": [
    "%matplotlib inline\n",
    "import matplotlib.pyplot as plt\n",
    "lineary_pred = linear_model3.predict(X_test)\n",
    "plt.figure(figsize=(4,4))\n",
    "plt.scatter(Y_test, lineary_pred, alpha=0.2, c=\"blue\")\n",
    "#plt.plot(Y_test, c=\"red\")\n",
    "plt.plot(lineary_pred, c=\"black\")\n",
    "plt.grid()\n",
    "plt.xlabel(\"Real Y\")\n",
    "plt.ylabel(\"Predicted Y\")\n",
    "plt.show()"
   ]
  },
  {
   "cell_type": "code",
   "execution_count": null,
   "metadata": {},
   "outputs": [],
   "source": []
  }
 ],
 "metadata": {
  "kernelspec": {
   "display_name": "Python 3",
   "language": "python",
   "name": "python3"
  },
  "language_info": {
   "codemirror_mode": {
    "name": "ipython",
    "version": 3
   },
   "file_extension": ".py",
   "mimetype": "text/x-python",
   "name": "python",
   "nbconvert_exporter": "python",
   "pygments_lexer": "ipython3",
   "version": "3.7.1"
  }
 },
 "nbformat": 4,
 "nbformat_minor": 2
}
