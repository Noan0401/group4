{
 "cells": [
  {
   "cell_type": "code",
   "execution_count": 1,
   "metadata": {},
   "outputs": [],
   "source": [
    "import re\n",
    "import csv\n",
    "import time\n",
    "import pandas as pd\n",
    "import matplotlib.pyplot as plt\n",
    "import MeCab\n",
    "import random\n",
    "import codecs\n",
    "import numpy as np\n",
    "from sklearn.feature_extraction.text import CountVectorizer\n",
    "from sklearn.feature_extraction.text import TfidfTransformer"
   ]
  },
  {
   "cell_type": "code",
   "execution_count": 2,
   "metadata": {},
   "outputs": [],
   "source": [
    "import os\n",
    "\n",
    "def story_name(file_name):\n",
    "    path = \"./\"+file_name\n",
    "\n",
    "    files = os.listdir(path)\n",
    "    file_name_test = []\n",
    "\n",
    "    for p in files:\n",
    "        name = os.path.splitext(os.path.basename(p))[0]\n",
    "        file_name_test.append(name)\n",
    "\n",
    "    return file_name_test\n",
    "\n",
    "\n"
   ]
  },
  {
   "cell_type": "code",
   "execution_count": 3,
   "metadata": {},
   "outputs": [],
   "source": [
    "import csv\n",
    "\n",
    "def csv_read(csvfile_name,list_len):\n",
    "    test_story ={}\n",
    "\n",
    "    with open(csvfile_name) as f:\n",
    "        reader = csv.reader(f)\n",
    "        for row in reader:\n",
    "            if row[list_len] == '':\n",
    "                test_story[row[list_len-1]] = None\n",
    "            else:\n",
    "                test_story[row[list_len -1]] = row[list_len]\n",
    "    return test_story\n",
    "\n",
    "#csv_read(\"test12.csv\",2)"
   ]
  },
  {
   "cell_type": "code",
   "execution_count": 4,
   "metadata": {},
   "outputs": [],
   "source": [
    "def float_values(trips):\n",
    "\n",
    "    for trip in trips:\n",
    "        for key, value in trip.items():\n",
    "            trip[key] = float(value)\n",
    "\n",
    "    return trips"
   ]
  },
  {
   "cell_type": "code",
   "execution_count": 5,
   "metadata": {},
   "outputs": [],
   "source": [
    "\n",
    "def story_make(story_n,file_name):\n",
    "    story_test = {}\n",
    "    for i in story_n:\n",
    "        with open(file_name+\"/\"+ i + \".txt\", 'r') as f:\n",
    "            kw_list = f.read().split(\"\\n\")\n",
    "            #print(kw_list)\n",
    "        test_str =\"\".join(kw_list)\n",
    "        story_test[i] = test_str\n",
    "    return story_test"
   ]
  },
  {
   "cell_type": "code",
   "execution_count": 6,
   "metadata": {},
   "outputs": [
    {
     "name": "stdout",
     "output_type": "stream",
     "text": [
      "{'ももたろう': '4', 'ぶんぶくちゃがま': '4', 'かぜのかみとこども': '4', 'わらしべちょうじゃ': '4', 'びんぼう神とふくの神': '1', 'テングのすもう': '3', 'かぐや姫': '4', 'ききみみずきん': '3.5', 'さんねんねたろう': '4', 'たからゲタ': '4', 'タニシちょうじゃ': '3.5', 'いなばのしろウサギ': '4', 'はなさかじいさん': '4', 'なぞなぞおばけ': '7', 'まんじゅうこわい': '4.5', 'しちふくじん': '4', 'かしこいむすめ': '5', 'ねずみのすもう': '4', 'てんぷくちふく': '4', 'こぶとりじいさん': '3.5', 'あかたろう': '3', 'こそだてゆうれい': '3.5', 'ゆきおんな': '4', 'あまのはごろも': '4', 'いっすんぼうし': '4', 'しあわせのエンドウマメ': '5', 'おにはうち_ふくはそと': '4.5', 'お日さまとお月さま': '2.5', 'うしわかまる': '7', 'ねずみのよめいり': '4', 'かちかちやま': '4', 'うらしまたろう': '4', 'うりこひめ': '4', 'かさじぞう': '4', 'したきりすずめ': '4', 'せつぶんのオニ': '3', 'てんぐのかくれみの': '4', 'ちからたろう': '4', 'かさのえ': '3', 'いっきゅうさん': '4', 'きんたろう': '4', 'さるかにがっせん': '4', 'たつのこたろう': '8', 'つるのおんがえし': '4', 'おむすびころりん': '4', 'フクロウのそめものや': '2', 'ネズミきょう': '2', 'ふるやのもり': '4', 'サルじぞう': '4', 'しょうねんと子ダヌキ': '4', '三びきの子ブタ': '4', 'ジャックとまめの木': '3.5', 'しあわせの王子': '7', 'アラジンとまほうのランプ': '4', '三びきのクマ': '4', 'ハーメルンのふえふき男': '8.5', 'きたかぜのくれたテーブルかけ': '5.5', 'わがままなきょじん': '4', 'きんの糸と虹': '9', 'オオカミしょうねん': '5.5', 'アリとキリギリス': '3', 'ウサギとカメ': '4', 'きたかぜとたいよう': '5.5', 'すっぱいぶどう': '8', 'にくをくわえたイヌ': '11', 'きんのオノぎんのオノ': '4', 'おうさまの耳はロバの耳': '7', 'ネズミのおんがえし': '7.5', 'ひきょうなこうもり': '8', 'マッチうりの少女': '8.5', 'はだかのおうさま': '4', 'にんぎょ姫': '4', 'みにくいアヒルの子': '4', 'おやゆび姫': '3.5', 'あかいくつ': '4', 'ゆきのじょうおう': '4', 'はくちょうのおうじ': '4', 'エンドウマメのうえにねたお姫さま': '4', 'ゆきだるま': '3', 'モミの木': '6.5', 'シンデレラ': '4', 'あかずきんちゃん': '4', 'オオカミと七ひきの子ヤギ': '4', 'ブレーメンのおんがくたい': '6.5', 'ヘンゼルとグレーテル': '3.5', 'しらゆき姫': '4', 'ながぐつをはいたネコ': '6.5', 'ねむり姫': '4', 'くつやのこびと': '4', 'カエルのおうさま': '4', 'しっぽの釣り': '3', 'ゆうれいのタマゴ': '5.5'}\n",
      "92\n"
     ]
    }
   ],
   "source": [
    "story_name_list = story_name(\"対象年齢あり童話\")\n",
    "story_name_list.sort()\n",
    "target_age = csv_read(\"対象年齢.csv\",1)\n",
    "target_age.pop(\"story_name\")\n",
    "print(target_age)\n",
    "print(len(target_age))"
   ]
  },
  {
   "cell_type": "code",
   "execution_count": 7,
   "metadata": {},
   "outputs": [
    {
     "name": "stdout",
     "output_type": "stream",
     "text": [
      "{'ももたろう': 4.0, 'ぶんぶくちゃがま': 4.0, 'かぜのかみとこども': 4.0, 'わらしべちょうじゃ': 4.0, 'びんぼう神とふくの神': 1.0, 'テングのすもう': 3.0, 'かぐや姫': 4.0, 'ききみみずきん': 3.5, 'さんねんねたろう': 4.0, 'たからゲタ': 4.0, 'タニシちょうじゃ': 3.5, 'いなばのしろウサギ': 4.0, 'はなさかじいさん': 4.0, 'なぞなぞおばけ': 7.0, 'まんじゅうこわい': 4.5, 'しちふくじん': 4.0, 'かしこいむすめ': 5.0, 'ねずみのすもう': 4.0, 'てんぷくちふく': 4.0, 'こぶとりじいさん': 3.5, 'あかたろう': 3.0, 'こそだてゆうれい': 3.5, 'ゆきおんな': 4.0, 'あまのはごろも': 4.0, 'いっすんぼうし': 4.0, 'しあわせのエンドウマメ': 5.0, 'おにはうち_ふくはそと': 4.5, 'お日さまとお月さま': 2.5, 'うしわかまる': 7.0, 'ねずみのよめいり': 4.0, 'かちかちやま': 4.0, 'うらしまたろう': 4.0, 'うりこひめ': 4.0, 'かさじぞう': 4.0, 'したきりすずめ': 4.0, 'せつぶんのオニ': 3.0, 'てんぐのかくれみの': 4.0, 'ちからたろう': 4.0, 'かさのえ': 3.0, 'いっきゅうさん': 4.0, 'きんたろう': 4.0, 'さるかにがっせん': 4.0, 'たつのこたろう': 8.0, 'つるのおんがえし': 4.0, 'おむすびころりん': 4.0, 'フクロウのそめものや': 2.0, 'ネズミきょう': 2.0, 'ふるやのもり': 4.0, 'サルじぞう': 4.0, 'しょうねんと子ダヌキ': 4.0, '三びきの子ブタ': 4.0, 'ジャックとまめの木': 3.5, 'しあわせの王子': 7.0, 'アラジンとまほうのランプ': 4.0, '三びきのクマ': 4.0, 'ハーメルンのふえふき男': 8.5, 'きたかぜのくれたテーブルかけ': 5.5, 'わがままなきょじん': 4.0, 'きんの糸と虹': 9.0, 'オオカミしょうねん': 5.5, 'アリとキリギリス': 3.0, 'ウサギとカメ': 4.0, 'きたかぜとたいよう': 5.5, 'すっぱいぶどう': 8.0, 'にくをくわえたイヌ': 11.0, 'きんのオノぎんのオノ': 4.0, 'おうさまの耳はロバの耳': 7.0, 'ネズミのおんがえし': 7.5, 'ひきょうなこうもり': 8.0, 'マッチうりの少女': 8.5, 'はだかのおうさま': 4.0, 'にんぎょ姫': 4.0, 'みにくいアヒルの子': 4.0, 'おやゆび姫': 3.5, 'あかいくつ': 4.0, 'ゆきのじょうおう': 4.0, 'はくちょうのおうじ': 4.0, 'エンドウマメのうえにねたお姫さま': 4.0, 'ゆきだるま': 3.0, 'モミの木': 6.5, 'シンデレラ': 4.0, 'あかずきんちゃん': 4.0, 'オオカミと七ひきの子ヤギ': 4.0, 'ブレーメンのおんがくたい': 6.5, 'ヘンゼルとグレーテル': 3.5, 'しらゆき姫': 4.0, 'ながぐつをはいたネコ': 6.5, 'ねむり姫': 4.0, 'くつやのこびと': 4.0, 'カエルのおうさま': 4.0, 'しっぽの釣り': 3.0, 'ゆうれいのタマゴ': 5.5}\n"
     ]
    }
   ],
   "source": [
    "for k, v in target_age.items():\n",
    "    target_age[k]= float(v)\n",
    "print(target_age)"
   ]
  },
  {
   "cell_type": "code",
   "execution_count": 8,
   "metadata": {},
   "outputs": [
    {
     "name": "stdout",
     "output_type": "stream",
     "text": [
      "['あかいくつ', 'あかずきんちゃん', 'あかたろう']\n",
      "92\n"
     ]
    }
   ],
   "source": [
    "test_s = story_make(story_name_list,\"童話\")\n",
    "print(story_name_list[0:3])\n",
    "#print(test_s[story_name_list[0]])\n",
    "print(len(test_s))"
   ]
  },
  {
   "cell_type": "code",
   "execution_count": 9,
   "metadata": {},
   "outputs": [
    {
     "name": "stdout",
     "output_type": "stream",
     "text": [
      "File already exists.\n"
     ]
    }
   ],
   "source": [
    "import os\n",
    "import urllib.request\n",
    "\n",
    "def download_stopwords(path):\n",
    "    url = 'http://svn.sourceforge.jp/svnroot/slothlib/CSharp/Version1/SlothLib/NLP/Filter/StopWord/word/Japanese.txt'\n",
    "    if os.path.exists(path):\n",
    "        print('File already exists.')\n",
    "    else:\n",
    "        print('Downloading...')\n",
    "        # Download the file from `url` and save it locally under `file_name`:\n",
    "        urllib.request.urlretrieve(url, path)\n",
    "\n",
    "def create_stopwords(file_path):\n",
    "    stop_words = []\n",
    "    for w in open(path, \"r\"):\n",
    "        w = w.replace('\\n','')\n",
    "        if len(w) > 0:\n",
    "          stop_words.append(w)\n",
    "    return stop_words    \n",
    "\n",
    "path = \"stop_words.txt\"\n",
    "download_stopwords(path)\n",
    "stop_words = create_stopwords(path)"
   ]
  },
  {
   "cell_type": "code",
   "execution_count": 10,
   "metadata": {},
   "outputs": [
    {
     "name": "stdout",
     "output_type": "stream",
     "text": [
      "['あげ', 'あっ', 'あの', 'あり', 'ありがとう', 'いい', 'いう', 'いき', 'いく', 'いっ', 'いつも', 'お', 'おじいさん', 'おばあさん', 'おり', 'お前', 'お母さん', 'お金', 'かい', 'かけ', 'きれい', 'くる', 'くれ', 'こ', 'こう', 'この', 'こんな', 'さ', 'しばらく', 'しまい', 'しまっ', 'じゃ', 'すぐ', 'する', 'すると', 'ず', 'せ', 'そこで', 'そして', 'それから', 'そんな', 'ぞ', 'たい', 'たら', 'だけ', 'だっ', 'だろ', 'でき', 'でし', 'でしょ', 'でも', 'という', 'とうとう', 'とても', 'どう', 'なかっ', 'ながら', 'なく', 'なさい', 'なっ', 'なら', 'なり', 'なる', 'ね', 'ので', 'ば', 'へ', 'ましょ', 'ます', 'また', 'まで', 'み', 'みる', 'むかし', 'もう', 'や', 'やがて', 'やっ', 'やってき', 'やる', 'よ', 'よく', 'られ', 'れ', 'わ', 'ー', '一緒', '住ん', '僕', '入っ', '入れ', '出', '出かけ', '出し', '喜び', '声', '夜', '大', '大きな', '始め', '姿', '子供', '小さな', '山', '帰っ', '帰り', '幸せ', '心', '思い', '思っ', '持っ', '昔', '晩', '暮らし', '朝', '来', '歩い', '美しい', '聞い', '落ち', '行き', '行く', '行っ', '見え', '見つけ', '言い', '言う', '言っ', '言わ', '連れ', '音', '顔', '食べ']\n",
      "<class 'list'>\n",
      "133\n",
      "[[0 0 1 ... 0 0 0]\n",
      " [0 0 0 ... 0 0 2]\n",
      " [0 1 0 ... 0 0 2]\n",
      " ...\n",
      " [1 0 1 ... 1 0 0]\n",
      " [0 1 0 ... 1 0 0]\n",
      " [0 0 0 ... 0 0 6]]\n",
      "92\n"
     ]
    }
   ],
   "source": [
    "tagger = MeCab.Tagger('-Owakati')\n",
    "corpus2 = [tagger.parse(line).strip() for line in test_s.values()]\n",
    "cv2 = CountVectorizer(min_df=0.20, max_df=0.80,stop_words=stop_words,token_pattern=u'(?u)\\\\b\\\\w+\\\\b')\n",
    "matrix2 = cv2.fit_transform(corpus2)\n",
    "\n",
    "print(cv2.get_feature_names())\n",
    "print(type(cv2.get_feature_names()))\n",
    "print(len(cv2.get_feature_names()))\n",
    "\n",
    "print(matrix2.toarray())\n",
    "print(len(matrix2.toarray()))"
   ]
  },
  {
   "cell_type": "code",
   "execution_count": 11,
   "metadata": {},
   "outputs": [
    {
     "name": "stdout",
     "output_type": "stream",
     "text": [
      "tfidf:\n",
      "[[0.         0.         0.07893619 ... 0.         0.         0.        ]\n",
      " [0.         0.         0.         ... 0.         0.         0.21892317]\n",
      " [0.         0.09403781 0.         ... 0.         0.         0.13171393]\n",
      " ...\n",
      " [0.10004561 0.         0.07271019 ... 0.09628689 0.         0.        ]\n",
      " [0.         0.15109682 0.         ... 0.14542011 0.         0.        ]\n",
      " [0.         0.         0.         ... 0.         0.         0.30703527]]\n",
      "<class 'numpy.ndarray'>\n",
      "<class 'scipy.sparse.csr.csr_matrix'>\n"
     ]
    }
   ],
   "source": [
    "tf_vec_cv = cv2.fit_transform(corpus2).toarray()\n",
    "features_cv = cv2.get_feature_names()\n",
    "tfidf_transformer_cv = TfidfTransformer(norm='l2', sublinear_tf=True)\n",
    "idf_cv = tfidf_transformer_cv.fit(tf_vec_cv)\n",
    "tfidf_cv = tfidf_transformer_cv.fit_transform(tf_vec_cv)\n",
    "print(\"tfidf:\\n{}\".format(tfidf_cv.toarray()))\n",
    "print(type(tfidf_cv.toarray()))\n",
    "print(type(tfidf_cv))"
   ]
  },
  {
   "cell_type": "code",
   "execution_count": 12,
   "metadata": {},
   "outputs": [
    {
     "data": {
      "text/html": [
       "<div>\n",
       "<style scoped>\n",
       "    .dataframe tbody tr th:only-of-type {\n",
       "        vertical-align: middle;\n",
       "    }\n",
       "\n",
       "    .dataframe tbody tr th {\n",
       "        vertical-align: top;\n",
       "    }\n",
       "\n",
       "    .dataframe thead th {\n",
       "        text-align: right;\n",
       "    }\n",
       "</style>\n",
       "<table border=\"1\" class=\"dataframe\">\n",
       "  <thead>\n",
       "    <tr style=\"text-align: right;\">\n",
       "      <th></th>\n",
       "      <th>あげ</th>\n",
       "      <th>あっ</th>\n",
       "      <th>あの</th>\n",
       "      <th>あり</th>\n",
       "      <th>ありがとう</th>\n",
       "      <th>いい</th>\n",
       "      <th>いう</th>\n",
       "      <th>いき</th>\n",
       "      <th>いく</th>\n",
       "      <th>いっ</th>\n",
       "      <th>...</th>\n",
       "      <th>見え</th>\n",
       "      <th>見つけ</th>\n",
       "      <th>言い</th>\n",
       "      <th>言う</th>\n",
       "      <th>言っ</th>\n",
       "      <th>言わ</th>\n",
       "      <th>連れ</th>\n",
       "      <th>音</th>\n",
       "      <th>顔</th>\n",
       "      <th>食べ</th>\n",
       "    </tr>\n",
       "  </thead>\n",
       "  <tbody>\n",
       "    <tr>\n",
       "      <th>あかいくつ</th>\n",
       "      <td>0.000000</td>\n",
       "      <td>0.000000</td>\n",
       "      <td>0.078936</td>\n",
       "      <td>0.137044</td>\n",
       "      <td>0.000000</td>\n",
       "      <td>0.065302</td>\n",
       "      <td>0.185706</td>\n",
       "      <td>0.155074</td>\n",
       "      <td>0.183897</td>\n",
       "      <td>0.128408</td>\n",
       "      <td>...</td>\n",
       "      <td>0.102629</td>\n",
       "      <td>0.000000</td>\n",
       "      <td>0.116040</td>\n",
       "      <td>0.089849</td>\n",
       "      <td>0.000000</td>\n",
       "      <td>0.000000</td>\n",
       "      <td>0.000000</td>\n",
       "      <td>0.000000</td>\n",
       "      <td>0.000000</td>\n",
       "      <td>0.000000</td>\n",
       "    </tr>\n",
       "    <tr>\n",
       "      <th>あかずきんちゃん</th>\n",
       "      <td>0.000000</td>\n",
       "      <td>0.000000</td>\n",
       "      <td>0.000000</td>\n",
       "      <td>0.000000</td>\n",
       "      <td>0.000000</td>\n",
       "      <td>0.093975</td>\n",
       "      <td>0.215611</td>\n",
       "      <td>0.000000</td>\n",
       "      <td>0.000000</td>\n",
       "      <td>0.109139</td>\n",
       "      <td>...</td>\n",
       "      <td>0.000000</td>\n",
       "      <td>0.145068</td>\n",
       "      <td>0.206979</td>\n",
       "      <td>0.000000</td>\n",
       "      <td>0.000000</td>\n",
       "      <td>0.000000</td>\n",
       "      <td>0.000000</td>\n",
       "      <td>0.000000</td>\n",
       "      <td>0.000000</td>\n",
       "      <td>0.218923</td>\n",
       "    </tr>\n",
       "    <tr>\n",
       "      <th>あかたろう</th>\n",
       "      <td>0.000000</td>\n",
       "      <td>0.094038</td>\n",
       "      <td>0.000000</td>\n",
       "      <td>0.056539</td>\n",
       "      <td>0.000000</td>\n",
       "      <td>0.147536</td>\n",
       "      <td>0.000000</td>\n",
       "      <td>0.000000</td>\n",
       "      <td>0.094038</td>\n",
       "      <td>0.156691</td>\n",
       "      <td>...</td>\n",
       "      <td>0.088857</td>\n",
       "      <td>0.000000</td>\n",
       "      <td>0.059338</td>\n",
       "      <td>0.000000</td>\n",
       "      <td>0.000000</td>\n",
       "      <td>0.000000</td>\n",
       "      <td>0.000000</td>\n",
       "      <td>0.000000</td>\n",
       "      <td>0.000000</td>\n",
       "      <td>0.131714</td>\n",
       "    </tr>\n",
       "    <tr>\n",
       "      <th>あまのはごろも</th>\n",
       "      <td>0.000000</td>\n",
       "      <td>0.000000</td>\n",
       "      <td>0.161617</td>\n",
       "      <td>0.063710</td>\n",
       "      <td>0.000000</td>\n",
       "      <td>0.107870</td>\n",
       "      <td>0.000000</td>\n",
       "      <td>0.122062</td>\n",
       "      <td>0.105964</td>\n",
       "      <td>0.000000</td>\n",
       "      <td>...</td>\n",
       "      <td>0.100126</td>\n",
       "      <td>0.098349</td>\n",
       "      <td>0.000000</td>\n",
       "      <td>0.000000</td>\n",
       "      <td>0.075980</td>\n",
       "      <td>0.000000</td>\n",
       "      <td>0.000000</td>\n",
       "      <td>0.000000</td>\n",
       "      <td>0.172672</td>\n",
       "      <td>0.000000</td>\n",
       "    </tr>\n",
       "    <tr>\n",
       "      <th>いっきゅうさん</th>\n",
       "      <td>0.118767</td>\n",
       "      <td>0.000000</td>\n",
       "      <td>0.000000</td>\n",
       "      <td>0.120904</td>\n",
       "      <td>0.190012</td>\n",
       "      <td>0.120904</td>\n",
       "      <td>0.000000</td>\n",
       "      <td>0.000000</td>\n",
       "      <td>0.000000</td>\n",
       "      <td>0.000000</td>\n",
       "      <td>...</td>\n",
       "      <td>0.000000</td>\n",
       "      <td>0.000000</td>\n",
       "      <td>0.000000</td>\n",
       "      <td>0.000000</td>\n",
       "      <td>0.000000</td>\n",
       "      <td>0.000000</td>\n",
       "      <td>0.000000</td>\n",
       "      <td>0.114305</td>\n",
       "      <td>0.000000</td>\n",
       "      <td>0.166351</td>\n",
       "    </tr>\n",
       "    <tr>\n",
       "      <th>...</th>\n",
       "      <td>...</td>\n",
       "      <td>...</td>\n",
       "      <td>...</td>\n",
       "      <td>...</td>\n",
       "      <td>...</td>\n",
       "      <td>...</td>\n",
       "      <td>...</td>\n",
       "      <td>...</td>\n",
       "      <td>...</td>\n",
       "      <td>...</td>\n",
       "      <td>...</td>\n",
       "      <td>...</td>\n",
       "      <td>...</td>\n",
       "      <td>...</td>\n",
       "      <td>...</td>\n",
       "      <td>...</td>\n",
       "      <td>...</td>\n",
       "      <td>...</td>\n",
       "      <td>...</td>\n",
       "      <td>...</td>\n",
       "      <td>...</td>\n",
       "    </tr>\n",
       "    <tr>\n",
       "      <th>ヘンゼルとグレーテル</th>\n",
       "      <td>0.000000</td>\n",
       "      <td>0.102332</td>\n",
       "      <td>0.092182</td>\n",
       "      <td>0.086714</td>\n",
       "      <td>0.000000</td>\n",
       "      <td>0.139293</td>\n",
       "      <td>0.049241</td>\n",
       "      <td>0.069621</td>\n",
       "      <td>0.000000</td>\n",
       "      <td>0.071455</td>\n",
       "      <td>...</td>\n",
       "      <td>0.057109</td>\n",
       "      <td>0.094978</td>\n",
       "      <td>0.091007</td>\n",
       "      <td>0.049998</td>\n",
       "      <td>0.043337</td>\n",
       "      <td>0.000000</td>\n",
       "      <td>0.122073</td>\n",
       "      <td>0.000000</td>\n",
       "      <td>0.058168</td>\n",
       "      <td>0.147289</td>\n",
       "    </tr>\n",
       "    <tr>\n",
       "      <th>マッチうりの少女</th>\n",
       "      <td>0.000000</td>\n",
       "      <td>0.116127</td>\n",
       "      <td>0.000000</td>\n",
       "      <td>0.118215</td>\n",
       "      <td>0.000000</td>\n",
       "      <td>0.000000</td>\n",
       "      <td>0.000000</td>\n",
       "      <td>0.133768</td>\n",
       "      <td>0.000000</td>\n",
       "      <td>0.137292</td>\n",
       "      <td>...</td>\n",
       "      <td>0.000000</td>\n",
       "      <td>0.107781</td>\n",
       "      <td>0.073276</td>\n",
       "      <td>0.000000</td>\n",
       "      <td>0.083267</td>\n",
       "      <td>0.000000</td>\n",
       "      <td>0.111764</td>\n",
       "      <td>0.000000</td>\n",
       "      <td>0.000000</td>\n",
       "      <td>0.000000</td>\n",
       "    </tr>\n",
       "    <tr>\n",
       "      <th>モミの木</th>\n",
       "      <td>0.100046</td>\n",
       "      <td>0.000000</td>\n",
       "      <td>0.072710</td>\n",
       "      <td>0.143539</td>\n",
       "      <td>0.000000</td>\n",
       "      <td>0.126235</td>\n",
       "      <td>0.000000</td>\n",
       "      <td>0.115244</td>\n",
       "      <td>0.100046</td>\n",
       "      <td>0.069858</td>\n",
       "      <td>...</td>\n",
       "      <td>0.000000</td>\n",
       "      <td>0.000000</td>\n",
       "      <td>0.000000</td>\n",
       "      <td>0.000000</td>\n",
       "      <td>0.071736</td>\n",
       "      <td>0.100046</td>\n",
       "      <td>0.000000</td>\n",
       "      <td>0.096287</td>\n",
       "      <td>0.000000</td>\n",
       "      <td>0.000000</td>\n",
       "    </tr>\n",
       "    <tr>\n",
       "      <th>三びきのクマ</th>\n",
       "      <td>0.000000</td>\n",
       "      <td>0.151097</td>\n",
       "      <td>0.000000</td>\n",
       "      <td>0.216784</td>\n",
       "      <td>0.000000</td>\n",
       "      <td>0.000000</td>\n",
       "      <td>0.000000</td>\n",
       "      <td>0.102797</td>\n",
       "      <td>0.000000</td>\n",
       "      <td>0.000000</td>\n",
       "      <td>...</td>\n",
       "      <td>0.142773</td>\n",
       "      <td>0.000000</td>\n",
       "      <td>0.000000</td>\n",
       "      <td>0.000000</td>\n",
       "      <td>0.000000</td>\n",
       "      <td>0.000000</td>\n",
       "      <td>0.000000</td>\n",
       "      <td>0.145420</td>\n",
       "      <td>0.000000</td>\n",
       "      <td>0.000000</td>\n",
       "    </tr>\n",
       "    <tr>\n",
       "      <th>三びきの子ブタ</th>\n",
       "      <td>0.000000</td>\n",
       "      <td>0.000000</td>\n",
       "      <td>0.000000</td>\n",
       "      <td>0.000000</td>\n",
       "      <td>0.000000</td>\n",
       "      <td>0.079933</td>\n",
       "      <td>0.000000</td>\n",
       "      <td>0.153143</td>\n",
       "      <td>0.000000</td>\n",
       "      <td>0.092831</td>\n",
       "      <td>...</td>\n",
       "      <td>0.000000</td>\n",
       "      <td>0.000000</td>\n",
       "      <td>0.176052</td>\n",
       "      <td>0.186211</td>\n",
       "      <td>0.095327</td>\n",
       "      <td>0.000000</td>\n",
       "      <td>0.000000</td>\n",
       "      <td>0.000000</td>\n",
       "      <td>0.000000</td>\n",
       "      <td>0.307035</td>\n",
       "    </tr>\n",
       "  </tbody>\n",
       "</table>\n",
       "<p>92 rows × 133 columns</p>\n",
       "</div>"
      ],
      "text/plain": [
       "                  あげ        あっ        あの        あり     ありがとう        いい  \\\n",
       "あかいくつ       0.000000  0.000000  0.078936  0.137044  0.000000  0.065302   \n",
       "あかずきんちゃん    0.000000  0.000000  0.000000  0.000000  0.000000  0.093975   \n",
       "あかたろう       0.000000  0.094038  0.000000  0.056539  0.000000  0.147536   \n",
       "あまのはごろも     0.000000  0.000000  0.161617  0.063710  0.000000  0.107870   \n",
       "いっきゅうさん     0.118767  0.000000  0.000000  0.120904  0.190012  0.120904   \n",
       "...              ...       ...       ...       ...       ...       ...   \n",
       "ヘンゼルとグレーテル  0.000000  0.102332  0.092182  0.086714  0.000000  0.139293   \n",
       "マッチうりの少女    0.000000  0.116127  0.000000  0.118215  0.000000  0.000000   \n",
       "モミの木        0.100046  0.000000  0.072710  0.143539  0.000000  0.126235   \n",
       "三びきのクマ      0.000000  0.151097  0.000000  0.216784  0.000000  0.000000   \n",
       "三びきの子ブタ     0.000000  0.000000  0.000000  0.000000  0.000000  0.079933   \n",
       "\n",
       "                  いう        いき        いく        いっ  ...        見え       見つけ  \\\n",
       "あかいくつ       0.185706  0.155074  0.183897  0.128408  ...  0.102629  0.000000   \n",
       "あかずきんちゃん    0.215611  0.000000  0.000000  0.109139  ...  0.000000  0.145068   \n",
       "あかたろう       0.000000  0.000000  0.094038  0.156691  ...  0.088857  0.000000   \n",
       "あまのはごろも     0.000000  0.122062  0.105964  0.000000  ...  0.100126  0.098349   \n",
       "いっきゅうさん     0.000000  0.000000  0.000000  0.000000  ...  0.000000  0.000000   \n",
       "...              ...       ...       ...       ...  ...       ...       ...   \n",
       "ヘンゼルとグレーテル  0.049241  0.069621  0.000000  0.071455  ...  0.057109  0.094978   \n",
       "マッチうりの少女    0.000000  0.133768  0.000000  0.137292  ...  0.000000  0.107781   \n",
       "モミの木        0.000000  0.115244  0.100046  0.069858  ...  0.000000  0.000000   \n",
       "三びきのクマ      0.000000  0.102797  0.000000  0.000000  ...  0.142773  0.000000   \n",
       "三びきの子ブタ     0.000000  0.153143  0.000000  0.092831  ...  0.000000  0.000000   \n",
       "\n",
       "                  言い        言う        言っ        言わ        連れ         音  \\\n",
       "あかいくつ       0.116040  0.089849  0.000000  0.000000  0.000000  0.000000   \n",
       "あかずきんちゃん    0.206979  0.000000  0.000000  0.000000  0.000000  0.000000   \n",
       "あかたろう       0.059338  0.000000  0.000000  0.000000  0.000000  0.000000   \n",
       "あまのはごろも     0.000000  0.000000  0.075980  0.000000  0.000000  0.000000   \n",
       "いっきゅうさん     0.000000  0.000000  0.000000  0.000000  0.000000  0.114305   \n",
       "...              ...       ...       ...       ...       ...       ...   \n",
       "ヘンゼルとグレーテル  0.091007  0.049998  0.043337  0.000000  0.122073  0.000000   \n",
       "マッチうりの少女    0.073276  0.000000  0.083267  0.000000  0.111764  0.000000   \n",
       "モミの木        0.000000  0.000000  0.071736  0.100046  0.000000  0.096287   \n",
       "三びきのクマ      0.000000  0.000000  0.000000  0.000000  0.000000  0.145420   \n",
       "三びきの子ブタ     0.176052  0.186211  0.095327  0.000000  0.000000  0.000000   \n",
       "\n",
       "                   顔        食べ  \n",
       "あかいくつ       0.000000  0.000000  \n",
       "あかずきんちゃん    0.000000  0.218923  \n",
       "あかたろう       0.000000  0.131714  \n",
       "あまのはごろも     0.172672  0.000000  \n",
       "いっきゅうさん     0.000000  0.166351  \n",
       "...              ...       ...  \n",
       "ヘンゼルとグレーテル  0.058168  0.147289  \n",
       "マッチうりの少女    0.000000  0.000000  \n",
       "モミの木        0.000000  0.000000  \n",
       "三びきのクマ      0.000000  0.000000  \n",
       "三びきの子ブタ     0.000000  0.307035  \n",
       "\n",
       "[92 rows x 133 columns]"
      ]
     },
     "execution_count": 12,
     "metadata": {},
     "output_type": "execute_result"
    }
   ],
   "source": [
    "df_t = pd.DataFrame( tfidf_cv.toarray(),\n",
    "                  index = test_s.keys(),\n",
    "                  columns = features_cv\n",
    "                   )\n",
    "\n",
    "df_t"
   ]
  },
  {
   "cell_type": "code",
   "execution_count": 13,
   "metadata": {},
   "outputs": [
    {
     "data": {
      "text/html": [
       "<div>\n",
       "<style scoped>\n",
       "    .dataframe tbody tr th:only-of-type {\n",
       "        vertical-align: middle;\n",
       "    }\n",
       "\n",
       "    .dataframe tbody tr th {\n",
       "        vertical-align: top;\n",
       "    }\n",
       "\n",
       "    .dataframe thead th {\n",
       "        text-align: right;\n",
       "    }\n",
       "</style>\n",
       "<table border=\"1\" class=\"dataframe\">\n",
       "  <thead>\n",
       "    <tr style=\"text-align: right;\">\n",
       "      <th></th>\n",
       "      <th>対象年齢</th>\n",
       "    </tr>\n",
       "  </thead>\n",
       "  <tbody>\n",
       "    <tr>\n",
       "      <th>ももたろう</th>\n",
       "      <td>4</td>\n",
       "    </tr>\n",
       "    <tr>\n",
       "      <th>ぶんぶくちゃがま</th>\n",
       "      <td>4</td>\n",
       "    </tr>\n",
       "    <tr>\n",
       "      <th>かぜのかみとこども</th>\n",
       "      <td>4</td>\n",
       "    </tr>\n",
       "    <tr>\n",
       "      <th>わらしべちょうじゃ</th>\n",
       "      <td>4</td>\n",
       "    </tr>\n",
       "    <tr>\n",
       "      <th>びんぼう神とふくの神</th>\n",
       "      <td>1</td>\n",
       "    </tr>\n",
       "    <tr>\n",
       "      <th>...</th>\n",
       "      <td>...</td>\n",
       "    </tr>\n",
       "    <tr>\n",
       "      <th>ねむり姫</th>\n",
       "      <td>4</td>\n",
       "    </tr>\n",
       "    <tr>\n",
       "      <th>くつやのこびと</th>\n",
       "      <td>4</td>\n",
       "    </tr>\n",
       "    <tr>\n",
       "      <th>カエルのおうさま</th>\n",
       "      <td>4</td>\n",
       "    </tr>\n",
       "    <tr>\n",
       "      <th>しっぽの釣り</th>\n",
       "      <td>3</td>\n",
       "    </tr>\n",
       "    <tr>\n",
       "      <th>ゆうれいのタマゴ</th>\n",
       "      <td>5</td>\n",
       "    </tr>\n",
       "  </tbody>\n",
       "</table>\n",
       "<p>92 rows × 1 columns</p>\n",
       "</div>"
      ],
      "text/plain": [
       "            対象年齢\n",
       "ももたろう          4\n",
       "ぶんぶくちゃがま       4\n",
       "かぜのかみとこども      4\n",
       "わらしべちょうじゃ      4\n",
       "びんぼう神とふくの神     1\n",
       "...          ...\n",
       "ねむり姫           4\n",
       "くつやのこびと        4\n",
       "カエルのおうさま       4\n",
       "しっぽの釣り         3\n",
       "ゆうれいのタマゴ       5\n",
       "\n",
       "[92 rows x 1 columns]"
      ]
     },
     "execution_count": 13,
     "metadata": {},
     "output_type": "execute_result"
    }
   ],
   "source": [
    "df_2_test = pd.DataFrame( target_age.values(),\n",
    "                  index = target_age.keys(),\n",
    "                  columns = [\"対象年齢\"]\n",
    ")\n",
    "df_2_test['対象年齢'] = df_2_test['対象年齢'].astype('int')\n",
    "df_2_test"
   ]
  },
  {
   "cell_type": "code",
   "execution_count": null,
   "metadata": {},
   "outputs": [],
   "source": []
  },
  {
   "cell_type": "code",
   "execution_count": null,
   "metadata": {},
   "outputs": [],
   "source": []
  },
  {
   "cell_type": "code",
   "execution_count": 14,
   "metadata": {},
   "outputs": [],
   "source": [
    "x_list = df_t.values\n",
    "y_list = df_2_test.values"
   ]
  },
  {
   "cell_type": "code",
   "execution_count": 15,
   "metadata": {},
   "outputs": [],
   "source": [
    "from sklearn.neighbors import KNeighborsClassifier\n",
    "from sklearn.model_selection import train_test_split\n",
    "from sklearn.model_selection import StratifiedKFold\n",
    "from sklearn.model_selection import cross_validate\n",
    "\n",
    "\n",
    "X = x_list\n",
    "Y = y_list\n",
    "Y=np.reshape(Y,(-1))\n",
    "X_train, X_test, Y_train, Y_test = train_test_split(X, Y, test_size=0.30, random_state=2021)"
   ]
  },
  {
   "cell_type": "code",
   "execution_count": 16,
   "metadata": {},
   "outputs": [
    {
     "name": "stdout",
     "output_type": "stream",
     "text": [
      "{'fit_time': array([0.00145078, 0.00107503, 0.00109696, 0.0009551 , 0.00067616]),\n",
      " 'score_time': array([0.000947  , 0.00069594, 0.00044298, 0.00043178, 0.00050688]),\n",
      " 'test_score': array([-0.49819872, -0.13728706, -0.04837352, -0.37720047, -0.06049459])}\n"
     ]
    }
   ],
   "source": [
    "from sklearn.model_selection import GridSearchCV\n",
    "from sklearn.svm import SVR\n",
    "from sklearn.model_selection import cross_validate\n",
    "from sklearn.model_selection import KFold\n",
    "import pprint\n",
    "\n",
    "svr = SVR(kernel='rbf', C=1, epsilon=0.9, gamma='auto')\n",
    "kf = KFold(n_splits=5,shuffle=True,random_state=1)\n",
    "\n",
    "pprint.pprint(cross_validate(svr,X,Y,scoring=\"r2\",cv=kf))"
   ]
  },
  {
   "cell_type": "code",
   "execution_count": 17,
   "metadata": {},
   "outputs": [
    {
     "name": "stdout",
     "output_type": "stream",
     "text": [
      "[[3.84959389 7.        ]\n",
      " [3.87749636 4.        ]\n",
      " [3.97391801 9.        ]\n",
      " [3.84877689 1.        ]\n",
      " [4.10201365 4.        ]\n",
      " [4.19067469 4.        ]\n",
      " [4.16321814 4.        ]\n",
      " [3.9895925  4.        ]\n",
      " [3.61266727 7.        ]\n",
      " [4.19137732 4.        ]\n",
      " [3.75416945 4.        ]\n",
      " [3.98487274 7.        ]\n",
      " [3.70864596 8.        ]\n",
      " [3.94049782 4.        ]\n",
      " [3.97293728 4.        ]\n",
      " [4.21876055 4.        ]\n",
      " [3.86661556 4.        ]\n",
      " [4.08461098 4.        ]\n",
      " [4.20869681 4.        ]\n",
      " [3.6650694  4.        ]\n",
      " [4.24747696 2.        ]\n",
      " [3.73520479 4.        ]\n",
      " [4.36127939 6.        ]\n",
      " [4.2915636  5.        ]\n",
      " [4.2158043  4.        ]\n",
      " [4.01264877 3.        ]\n",
      " [4.03407341 3.        ]\n",
      " [4.17459917 5.        ]]\n"
     ]
    }
   ],
   "source": [
    "from sklearn.model_selection import GridSearchCV\n",
    "from sklearn.svm import SVR\n",
    "from sklearn.model_selection import cross_validate\n",
    "from sklearn.model_selection import KFold\n",
    "import pprint\n",
    "\n",
    "svr = SVR(kernel = \"rbf\",gamma = 1)\n",
    "#kf = KFold(n_splits=5,shuffle=True,random_state=1)\n",
    "\n",
    "svr.fit(X_train, Y_train)\n",
    "\n",
    "predicted_svr = svr.predict(X_test)\n",
    "print(np.c_[predicted_svr, Y_test])"
   ]
  },
  {
   "cell_type": "code",
   "execution_count": 18,
   "metadata": {},
   "outputs": [
    {
     "data": {
      "text/plain": [
       "(0.3387884623799733, -0.1589355989293102)"
      ]
     },
     "execution_count": 18,
     "metadata": {},
     "output_type": "execute_result"
    }
   ],
   "source": [
    "svr.score(X_train, Y_train), svr.score(X_test, Y_test)"
   ]
  },
  {
   "cell_type": "code",
   "execution_count": 25,
   "metadata": {},
   "outputs": [
    {
     "data": {
      "image/png": "[encoded data removed]",
      "text/plain": [
       "<Figure size 288x288 with 1 Axes>"
      ]
     },
     "metadata": {
      "needs_background": "light"
     },
     "output_type": "display_data"
    }
   ],
   "source": [
    "%matplotlib inline\n",
    "import matplotlib.pyplot as plt\n",
    "y_pred = svr.predict(X_test)\n",
    "plt.figure(figsize=(4,4))\n",
    "plt.scatter(Y_test, y_pred, alpha=0.2, c=\"blue\")\n",
    "#plt.scatter(Y_train, y_pred, alpha=0.2, c=\"red\")\n",
    "plt.plot([Y.min(), Y.max()], [Y.min(), Y.max()], c=\"black\")\n",
    "#plt.plot(svr.support_, c=\"red\")\n",
    "plt.grid()\n",
    "plt.xlabel(\"Real Y\")\n",
    "plt.ylabel(\"Predicted Y\")\n",
    "plt.show()"
   ]
  },
  {
   "cell_type": "code",
   "execution_count": 26,
   "metadata": {},
   "outputs": [
    {
     "data": {
      "text/plain": [
       "SVR(C=1, gamma='auto')"
      ]
     },
     "execution_count": 26,
     "metadata": {},
     "output_type": "execute_result"
    }
   ],
   "source": [
    "reg_linear = SVR(kernel='linear', C=1, epsilon=0.1, gamma='auto')\n",
    "reg_poly = SVR(kernel='poly', C=1, epsilon=0.1, gamma='auto')\n",
    "reg_rbf = SVR(kernel='rbf', C=1, epsilon=0.1, gamma='auto')\n",
    "\n",
    "reg_linear.fit(X_train, np.ravel(Y_train))\n",
    "reg_poly.fit(X_train, np.ravel(Y_train))\n",
    "reg_rbf.fit(X_train, np.ravel(Y_train))"
   ]
  },
  {
   "cell_type": "code",
   "execution_count": 27,
   "metadata": {},
   "outputs": [
    {
     "data": {
      "image/png": "[encoded data removed]",
      "text/plain": [
       "<Figure size 432x288 with 1 Axes>"
      ]
     },
     "metadata": {
      "needs_background": "light"
     },
     "output_type": "display_data"
    }
   ],
   "source": [
    "scores = (reg_linear.score(X_test, Y_test),\n",
    "reg_poly.score(X_test, Y_test),\n",
    "reg_rbf.score(X_test, Y_test))\n",
    "\n",
    "plt.bar((\"Linear\", \"poly\", \"RBF\"), scores)\n",
    "plt.xlabel(\"Kernel\")\n",
    "plt.ylabel(\"$R^2$ score\")\n",
    "plt.show()"
   ]
  },
  {
   "cell_type": "code",
   "execution_count": 28,
   "metadata": {},
   "outputs": [
    {
     "data": {
      "text/plain": [
       "SVR(C=1, coef0=1, degree=0, gamma='auto', kernel='poly')"
      ]
     },
     "execution_count": 28,
     "metadata": {},
     "output_type": "execute_result"
    }
   ],
   "source": [
    "reg_poly = SVR(kernel='poly', C=1, epsilon=0.1, gamma='auto', degree=0, coef0=1)\n",
    "reg_poly.fit(X_train, np.ravel(Y_train))"
   ]
  },
  {
   "cell_type": "code",
   "execution_count": 29,
   "metadata": {},
   "outputs": [
    {
     "data": {
      "image/png": "[encoded data removed]",
      "text/plain": [
       "<Figure size 432x288 with 1 Axes>"
      ]
     },
     "metadata": {
      "needs_background": "light"
     },
     "output_type": "display_data"
    }
   ],
   "source": [
    "scores = (reg_linear.score(X_test, Y_test),\n",
    "reg_poly.score(X_test, Y_test),\n",
    "reg_rbf.score(X_test, Y_test))\n",
    "\n",
    "plt.bar((\"Linear\", \"poly (degree=6)\", \"RBF\"), scores)\n",
    "plt.xlabel(\"Kernel\")\n",
    "plt.ylabel(\"$R^2$ score\")\n",
    "plt.show()"
   ]
  },
  {
   "cell_type": "code",
   "execution_count": 30,
   "metadata": {},
   "outputs": [],
   "source": [
    "model1 = SVR(kernel='rbf', C=1, epsilon=0.0,gamma='auto').fit(X_train, np.ravel(Y_train))\n",
    "model2 = SVR(kernel='rbf', C=1, epsilon=0.1, gamma='auto').fit(X_train, np.ravel(Y_train))\n",
    "model3 = SVR(kernel='rbf', C=1, epsilon=0.9, gamma='auto').fit(X_train, np.ravel(Y_train))"
   ]
  },
  {
   "cell_type": "code",
   "execution_count": 31,
   "metadata": {},
   "outputs": [
    {
     "data": {
      "image/png": "[encoded data removed]",
      "text/plain": [
       "<Figure size 432x288 with 1 Axes>"
      ]
     },
     "metadata": {
      "needs_background": "light"
     },
     "output_type": "display_data"
    },
    {
     "name": "stdout",
     "output_type": "stream",
     "text": [
      "(-0.10041335920691008, -0.1384266819789024, -0.13509125345156114)\n"
     ]
    }
   ],
   "source": [
    "scores = (model1.score(X_test, Y_test), model2.score(X_test, Y_test), model3.score(X_test, Y_test))\n",
    "\n",
    "plt.bar((\"0.0\", \"0.1\", \"0.9\"), scores)\n",
    "plt.xlabel(\"$\\\\varepsilon$\")\n",
    "plt.ylabel(\"$R^2$ score\")\n",
    "plt.show()\n",
    "print(scores)"
   ]
  },
  {
   "cell_type": "code",
   "execution_count": 32,
   "metadata": {},
   "outputs": [],
   "source": [
    "model4 = SVR(kernel='rbf', C=0.01, epsilon=0.1, gamma='auto').fit(X_train, np.ravel(Y_train))\n",
    "model5 = SVR(kernel='rbf', C=1, epsilon=0.1, gamma='auto').fit(X_train, np.ravel(Y_train))\n",
    "model6 = SVR(kernel='rbf', C=1000, epsilon=0.1, gamma='auto').fit(X_train, np.ravel(Y_train))\n",
    "model7 = SVR(kernel='rbf', C=1000, epsilon=0.9, gamma='auto').fit(X_train, np.ravel(Y_train))"
   ]
  },
  {
   "cell_type": "code",
   "execution_count": 33,
   "metadata": {},
   "outputs": [
    {
     "data": {
      "image/png": "[encoded data removed]",
      "text/plain": [
       "<Figure size 432x288 with 1 Axes>"
      ]
     },
     "metadata": {
      "needs_background": "light"
     },
     "output_type": "display_data"
    }
   ],
   "source": [
    "scores = (model4.score(X_test, Y_test), model5.score(X_test, Y_test), model6.score(X_test, Y_test),model7.score(X_test, Y_test))\n",
    "\n",
    "plt.bar((\"0.01\", \"1\", \"1000\",\"model7\"), scores)\n",
    "plt.xlabel(\"$C$\")\n",
    "plt.ylabel(\"$R^2$ score\")\n",
    "plt.show()"
   ]
  },
  {
   "cell_type": "code",
   "execution_count": 34,
   "metadata": {},
   "outputs": [],
   "source": [
    "linear_model1 = SVR(kernel='linear', C=1, epsilon=0.0,gamma='auto').fit(X_train, np.ravel(Y_train))\n",
    "linear_model2 = SVR(kernel='linear', C=1, epsilon=0.1, gamma='auto').fit(X_train, np.ravel(Y_train))\n",
    "linear_model3 = SVR(kernel='linear', C=1, epsilon=0.9, gamma='auto').fit(X_train, np.ravel(Y_train))"
   ]
  },
  {
   "cell_type": "code",
   "execution_count": 35,
   "metadata": {},
   "outputs": [
    {
     "data": {
      "image/png": "[encoded data removed]",
      "text/plain": [
       "<Figure size 432x288 with 1 Axes>"
      ]
     },
     "metadata": {
      "needs_background": "light"
     },
     "output_type": "display_data"
    },
    {
     "name": "stdout",
     "output_type": "stream",
     "text": [
      "(-0.20942689160943817, -0.2198494513162994, -0.04705248368078441)\n"
     ]
    }
   ],
   "source": [
    "scores = (linear_model1.score(X_test, Y_test), linear_model2.score(X_test, Y_test), linear_model3.score(X_test, Y_test))\n",
    "\n",
    "plt.bar((\"0.0\", \"0.1\", \"0.9\"), scores)\n",
    "plt.xlabel(\"$\\\\varepsilon$\")\n",
    "plt.ylabel(\"$R^2$ score\")\n",
    "plt.show()\n",
    "print(scores)"
   ]
  },
  {
   "cell_type": "code",
   "execution_count": 36,
   "metadata": {},
   "outputs": [],
   "source": [
    "linear_model4 = SVR(kernel='linear', C=0.01, epsilon=0.1, gamma='auto').fit(X_train, np.ravel(Y_train))\n",
    "linear_model5 = SVR(kernel='linear', C=1, epsilon=0.1, gamma='auto').fit(X_train, np.ravel(Y_train))\n",
    "linear_model6 = SVR(kernel='linear', C=1000, epsilon=0.1, gamma='auto').fit(X_train, np.ravel(Y_train))\n",
    "linear_model7 = SVR(kernel='linear', C=1000, epsilon=0.9, gamma='auto').fit(X_train, np.ravel(Y_train))"
   ]
  },
  {
   "cell_type": "code",
   "execution_count": 38,
   "metadata": {},
   "outputs": [
    {
     "data": {
      "image/png": "[encoded data removed]",
      "text/plain": [
       "<Figure size 432x288 with 1 Axes>"
      ]
     },
     "metadata": {
      "needs_background": "light"
     },
     "output_type": "display_data"
    }
   ],
   "source": [
    "scores = (linear_model4.score(X_test, Y_test), linear_model5.score(X_test, Y_test), linear_model6.score(X_test, Y_test),linear_model7.score(X_test, Y_test))\n",
    "\n",
    "plt.bar((\"0.01\", \"1\", \"1000\",\"1000&0.9\"), scores)\n",
    "plt.xlabel(\"$C$\")\n",
    "plt.ylabel(\"$R^2$ score\")\n",
    "plt.show()"
   ]
  },
  {
   "cell_type": "code",
   "execution_count": 39,
   "metadata": {},
   "outputs": [],
   "source": [
    "rbf_model1 = SVR(kernel='rbf', C=1, epsilon=0.0,gamma='auto').fit(X_train, np.ravel(Y_train))\n",
    "rbf_model2 = SVR(kernel='rbf', C=1, epsilon=0.1,gamma='auto').fit(X_train, np.ravel(Y_train))\n",
    "rbf_model3 = SVR(kernel='rbf', C=1, epsilon=0.9,gamma='auto').fit(X_train, np.ravel(Y_train))"
   ]
  },
  {
   "cell_type": "code",
   "execution_count": 40,
   "metadata": {},
   "outputs": [
    {
     "data": {
      "image/png": "[encoded data removed]",
      "text/plain": [
       "<Figure size 432x288 with 1 Axes>"
      ]
     },
     "metadata": {
      "needs_background": "light"
     },
     "output_type": "display_data"
    },
    {
     "name": "stdout",
     "output_type": "stream",
     "text": [
      "(-0.10041335920691008, -0.1384266819789024, -0.13509125345156114)\n"
     ]
    }
   ],
   "source": [
    "scores = (rbf_model1.score(X_test, Y_test), rbf_model2.score(X_test, Y_test), rbf_model3.score(X_test, Y_test))\n",
    "\n",
    "plt.bar((\"0.0\", \"0.1\", \"0.9\"), scores)\n",
    "plt.xlabel(\"$\\\\varepsilon$\")\n",
    "plt.ylabel(\"$R^2$ score\")\n",
    "plt.show()\n",
    "print(scores)"
   ]
  },
  {
   "cell_type": "code",
   "execution_count": 41,
   "metadata": {},
   "outputs": [],
   "source": [
    "rbf_model4 = SVR(kernel='rbf', C=0.01, epsilon=0.0,gamma='auto').fit(X_train, np.ravel(Y_train))\n",
    "rbf_model5 = SVR(kernel='rbf', C=1, epsilon=0.0,gamma='auto').fit(X_train, np.ravel(Y_train))\n",
    "rbf_model6 = SVR(kernel='rbf', C=1000, epsilon=0.0,gamma='auto').fit(X_train, np.ravel(Y_train))"
   ]
  },
  {
   "cell_type": "code",
   "execution_count": 42,
   "metadata": {},
   "outputs": [
    {
     "data": {
      "image/png": "[encoded data removed]",
      "text/plain": [
       "<Figure size 432x288 with 1 Axes>"
      ]
     },
     "metadata": {
      "needs_background": "light"
     },
     "output_type": "display_data"
    }
   ],
   "source": [
    "scores = (rbf_model4.score(X_test, Y_test), rbf_model5.score(X_test, Y_test), rbf_model6.score(X_test, Y_test))\n",
    "\n",
    "plt.bar((\"0.01\", \"1\", \"1000\"), scores)\n",
    "plt.xlabel(\"$C$\")\n",
    "plt.ylabel(\"$R^2$ score\")\n",
    "plt.show()"
   ]
  },
  {
   "cell_type": "code",
   "execution_count": null,
   "metadata": {},
   "outputs": [],
   "source": []
  }
 ],
 "metadata": {
  "kernelspec": {
   "display_name": "Python 3",
   "language": "python",
   "name": "python3"
  },
  "language_info": {
   "codemirror_mode": {
    "name": "ipython",
    "version": 3
   },
   "file_extension": ".py",
   "mimetype": "text/x-python",
   "name": "python",
   "nbconvert_exporter": "python",
   "pygments_lexer": "ipython3",
   "version": "3.7.1"
  }
 },
 "nbformat": 4,
 "nbformat_minor": 2
}
